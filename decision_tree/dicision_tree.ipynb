{
 "cells": [
  {
   "cell_type": "code",
   "execution_count": null,
   "metadata": {},
   "outputs": [],
   "source": [
    "import numpy as np\n",
    "import pandas as pd\n",
    "import matplotlib.pyplot as plt\n",
    "from sklearn.neighbors import KNeighborsClassifier\n",
    "from sklearn.metrics import mean_squared_error\n",
    "\n",
    "dataset=pd.read_csv('SolarPrediction_time_aligned.csv',engine='python')\n",
    "dataset.describe()\n"
   ]
  },
  {
   "cell_type": "code",
   "execution_count": null,
   "metadata": {},
   "outputs": [],
   "source": [
    "\n",
    "dataset.head(5)\n"
   ]
  },
  {
   "cell_type": "code",
   "execution_count": null,
   "metadata": {},
   "outputs": [],
   "source": [
    "len(dataset)"
   ]
  },
  {
   "cell_type": "code",
   "execution_count": null,
   "metadata": {},
   "outputs": [],
   "source": [
    "factor=dataset.drop(\"Radiation\",axis=1)\n",
    "factor=factor.drop(\"Data\",axis=1)\n",
    "factor=factor.drop(\"Time\",axis=1)\n",
    "factor=factor.drop(\"TimeSunRise\",axis=1)\n",
    "factor=factor.drop(\"TimeSunSet\",axis=1)\n",
    "pre_data=dataset[\"Radiation\"]\n",
    "print(factor.head(5))\n",
    "print(pre_data.head(5))"
   ]
  },
  {
   "cell_type": "markdown",
   "metadata": {},
   "source": [
    "將取出之dataframe轉為numpy"
   ]
  },
  {
   "cell_type": "code",
   "execution_count": null,
   "metadata": {},
   "outputs": [],
   "source": [
    "factor=factor.values\n",
    "pre_data=pre_data.values"
   ]
  },
  {
   "cell_type": "code",
   "execution_count": null,
   "metadata": {},
   "outputs": [],
   "source": [
    "factor=factor.astype(int)\n",
    "pre_data=pre_data.astype(int)"
   ]
  },
  {
   "cell_type": "code",
   "execution_count": null,
   "metadata": {},
   "outputs": [],
   "source": [
    "from sklearn.model_selection import train_test_split\n",
    "#將iris其中一行去除 species 是標籤 將此標籤的所在行去除 0列1行\n",
    "#將資料大部分分為train 一部分分為test test_size的比率轉成測值\n",
    "x_train,x_test,y_train,y_test=train_test_split(factor,pre_data,test_size=0.2,random_state=42)\n",
    "\n",
    "print(x_train[0:5])\n",
    "print(x_test[0:5])\n",
    "#print(y[0:5])\n",
    "\n",
    "#print(y_train.shape)\n",
    "#print(y_test.shape)\n",
    "#print(y)"
   ]
  },
  {
   "cell_type": "code",
   "execution_count": null,
   "metadata": {},
   "outputs": [],
   "source": [
    "#引入scalar這個函數\n",
    "from sklearn.preprocessing import MinMaxScaler\n",
    "#使用scalar將StandardScaler()存入 用以將數據標準化 均值為零 標準差為1\n",
    "#以下是標準寫法 將test 及 train 轉為標準化\n",
    "scalar=MinMaxScaler(feature_range=(0,1))\n",
    "x_train_scaled=scalar.fit_transform(x_train)\n",
    "x_test_scaled=scalar.transform(x_test)\n",
    "print(x_train_scaled.shape)\n",
    "#print(x_train[0:5])\n",
    "print(x_train_scaled[0:5])\n"
   ]
  },
  {
   "cell_type": "code",
   "execution_count": null,
   "metadata": {},
   "outputs": [],
   "source": [
    "#引入決策樹分類器\n",
    "from sklearn.tree import DecisionTreeClassifier\n",
    "#42為某種參數\n",
    "dt=DecisionTreeClassifier(random_state=42)\n",
    "dt.fit(x_train_scaled,y_train)\n",
    "y_pred_dt=dt.predict(x_test_scaled)\n",
    "\n",
    "accuracy_dt=mean_squared_error(y_test,y_pred_dt)\n",
    "classification_report_dt=mean_squared_error(y_test,y_pred_dt)\n",
    "\n",
    "print(accuracy_dt)\n",
    "print(classification_report_dt)"
   ]
  }
 ],
 "metadata": {
  "kernelspec": {
   "display_name": "base",
   "language": "python",
   "name": "python3"
  },
  "language_info": {
   "codemirror_mode": {
    "name": "ipython",
    "version": 3
   },
   "file_extension": ".py",
   "mimetype": "text/x-python",
   "name": "python",
   "nbconvert_exporter": "python",
   "pygments_lexer": "ipython3",
   "version": "3.10.9"
  }
 },
 "nbformat": 4,
 "nbformat_minor": 2
}
