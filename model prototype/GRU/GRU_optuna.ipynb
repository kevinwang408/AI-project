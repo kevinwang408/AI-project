{
 "cells": [
  {
   "cell_type": "code",
   "execution_count": null,
   "metadata": {},
   "outputs": [
    {
     "data": {
      "text/html": [
       "<div>\n",
       "<style scoped>\n",
       "    .dataframe tbody tr th:only-of-type {\n",
       "        vertical-align: middle;\n",
       "    }\n",
       "\n",
       "    .dataframe tbody tr th {\n",
       "        vertical-align: top;\n",
       "    }\n",
       "\n",
       "    .dataframe thead th {\n",
       "        text-align: right;\n",
       "    }\n",
       "</style>\n",
       "<table border=\"1\" class=\"dataframe\">\n",
       "  <thead>\n",
       "    <tr style=\"text-align: right;\">\n",
       "      <th></th>\n",
       "      <th>UNIXTime</th>\n",
       "      <th>Radiation</th>\n",
       "      <th>Temperature</th>\n",
       "      <th>Pressure</th>\n",
       "      <th>Humidity</th>\n",
       "      <th>WindDirection(Degrees)</th>\n",
       "      <th>Speed</th>\n",
       "      <th>TimeSunRise</th>\n",
       "      <th>TimeSunSet</th>\n",
       "    </tr>\n",
       "  </thead>\n",
       "  <tbody>\n",
       "    <tr>\n",
       "      <th>0</th>\n",
       "      <td>8</td>\n",
       "      <td>2.58</td>\n",
       "      <td>51</td>\n",
       "      <td>30.43</td>\n",
       "      <td>103</td>\n",
       "      <td>77.27</td>\n",
       "      <td>11.25</td>\n",
       "      <td>22020</td>\n",
       "      <td>67080</td>\n",
       "    </tr>\n",
       "    <tr>\n",
       "      <th>1</th>\n",
       "      <td>310</td>\n",
       "      <td>2.83</td>\n",
       "      <td>51</td>\n",
       "      <td>30.43</td>\n",
       "      <td>103</td>\n",
       "      <td>153.44</td>\n",
       "      <td>9.00</td>\n",
       "      <td>22020</td>\n",
       "      <td>67080</td>\n",
       "    </tr>\n",
       "    <tr>\n",
       "      <th>2</th>\n",
       "      <td>1206</td>\n",
       "      <td>2.16</td>\n",
       "      <td>51</td>\n",
       "      <td>30.43</td>\n",
       "      <td>103</td>\n",
       "      <td>142.04</td>\n",
       "      <td>7.87</td>\n",
       "      <td>22020</td>\n",
       "      <td>67080</td>\n",
       "    </tr>\n",
       "    <tr>\n",
       "      <th>3</th>\n",
       "      <td>1505</td>\n",
       "      <td>2.21</td>\n",
       "      <td>51</td>\n",
       "      <td>30.43</td>\n",
       "      <td>103</td>\n",
       "      <td>144.12</td>\n",
       "      <td>18.00</td>\n",
       "      <td>22020</td>\n",
       "      <td>67080</td>\n",
       "    </tr>\n",
       "    <tr>\n",
       "      <th>4</th>\n",
       "      <td>1809</td>\n",
       "      <td>2.25</td>\n",
       "      <td>51</td>\n",
       "      <td>30.43</td>\n",
       "      <td>103</td>\n",
       "      <td>67.42</td>\n",
       "      <td>11.25</td>\n",
       "      <td>22020</td>\n",
       "      <td>67080</td>\n",
       "    </tr>\n",
       "  </tbody>\n",
       "</table>\n",
       "</div>"
      ],
      "text/plain": [
       "   UNIXTime  Radiation  Temperature  Pressure  Humidity  \\\n",
       "0         8       2.58           51     30.43       103   \n",
       "1       310       2.83           51     30.43       103   \n",
       "2      1206       2.16           51     30.43       103   \n",
       "3      1505       2.21           51     30.43       103   \n",
       "4      1809       2.25           51     30.43       103   \n",
       "\n",
       "   WindDirection(Degrees)  Speed  TimeSunRise  TimeSunSet  \n",
       "0                   77.27  11.25        22020       67080  \n",
       "1                  153.44   9.00        22020       67080  \n",
       "2                  142.04   7.87        22020       67080  \n",
       "3                  144.12  18.00        22020       67080  \n",
       "4                   67.42  11.25        22020       67080  "
      ]
     },
     "execution_count": 15,
     "metadata": {},
     "output_type": "execute_result"
    }
   ],
   "source": [
    "import pandas as pd\n",
    "import matplotlib.pyplot as plt\n",
    "import numpy as np\n",
    "from pandas import read_csv\n",
    "import math\n",
    "from tensorflow.keras.models import Sequential\n",
    "from tensorflow.keras.layers import Dense,Dropout\n",
    "from tensorflow.keras.layers import GRU\n",
    "from sklearn.preprocessing import MinMaxScaler\n",
    "from sklearn.metrics import mean_squared_error\n",
    "from sklearn.metrics import mean_absolute_error\n",
    "import optuna\n",
    "\n",
    "dataset=pd.read_csv('SolarRadiationPrediction.csv',engine='python',nrows=576*15)\n",
    "dataset=dataset.drop(\"Data\",axis=1)\n",
    "dataset=dataset.drop(\"Time\",axis=1)\n",
    "# dataset=dataset.drop(\"TimeSunRise\",axis=1)\n",
    "# dataset=dataset.drop(\"TimeSunSet\",axis=1)\n",
    "dataset.head(5)\n"
   ]
  },
  {
   "cell_type": "code",
   "execution_count": 16,
   "metadata": {},
   "outputs": [
    {
     "name": "stdout",
     "output_type": "stream",
     "text": [
      "[[  2.58]\n",
      " [  2.83]\n",
      " [  2.16]\n",
      " ...\n",
      " [344.9 ]\n",
      " [365.66]\n",
      " [355.57]]\n",
      "[[0.00089369]\n",
      " [0.00104993]\n",
      " [0.00063121]\n",
      " ...\n",
      " [0.21482898]\n",
      " [0.2278031 ]\n",
      " [0.22149728]]\n"
     ]
    }
   ],
   "source": [
    "dataset=dataset.values\n",
    "np.random.seed(7)\n",
    "\n",
    "\n",
    "dataset=dataset.astype('float32')\n",
    "\n",
    "scalar1=MinMaxScaler(feature_range=(0,1))\n",
    "scalar2=MinMaxScaler(feature_range=(0,1))\n",
    "scalar_dim=dataset[:,1]\n",
    "dataset=scalar1.fit_transform(dataset)\n",
    "\n",
    "scalar_dim=scalar_dim.reshape(len(dataset),1)\n",
    "print(scalar_dim)\n",
    "scalar_dim=scalar2.fit_transform(scalar_dim)\n",
    "print(scalar_dim)\n"
   ]
  },
  {
   "cell_type": "code",
   "execution_count": 17,
   "metadata": {},
   "outputs": [
    {
     "name": "stdout",
     "output_type": "stream",
     "text": [
      "(5788, 9)\n",
      "[[5.8056499e-05 8.9368853e-04 3.3333325e-01 ... 5.5555558e-01\n",
      "  0.0000000e+00 1.0000000e+00]\n",
      " [3.5646691e-03 1.0499278e-03 3.3333325e-01 ... 4.4444445e-01\n",
      "  0.0000000e+00 1.0000000e+00]\n",
      " [1.3968393e-02 6.3120667e-04 3.3333325e-01 ... 3.8864198e-01\n",
      "  0.0000000e+00 1.0000000e+00]\n",
      " ...\n",
      " [1.7786188e-01 4.3747015e-05 2.6666665e-01 ... 2.2222222e-01\n",
      "  7.1428680e-01 2.9999924e-01]\n",
      " [1.8134527e-01 5.6246121e-05 2.6666665e-01 ... 2.7753085e-01\n",
      "  7.1428680e-01 2.9999924e-01]\n",
      " [1.8480544e-01 6.2495703e-05 2.6666665e-01 ... 2.2222222e-01\n",
      "  7.1428680e-01 2.9999924e-01]]\n",
      "(2852, 9)\n"
     ]
    }
   ],
   "source": [
    "train_size=int(len(dataset)*0.67)\n",
    "test_size=len(dataset)- train_size\n",
    "train,test=dataset[0:train_size,:],dataset[train_size:len(dataset),:]\n",
    "\n",
    "print(train.shape)\n",
    "print(train)\n",
    "print(test.shape)\n",
    "#print(test)"
   ]
  },
  {
   "cell_type": "code",
   "execution_count": 18,
   "metadata": {},
   "outputs": [],
   "source": [
    "def create_dataset(dataset,look_back):\n",
    "    dataX,dataY=[],[]\n",
    "    for i in range(len(dataset)-look_back-1):\n",
    "        #a=dataset第0行i~i+look_back個\n",
    "        a=dataset[i:(i+look_back),0:9]\n",
    "        dataX.append(a)\n",
    "        dataY.append(dataset[i+look_back,1])\n",
    "    return np.array(dataX),np.array(dataY)\n",
    "\n",
    "    "
   ]
  },
  {
   "cell_type": "code",
   "execution_count": 19,
   "metadata": {},
   "outputs": [
    {
     "name": "stdout",
     "output_type": "stream",
     "text": [
      "(2846, 5, 9)\n",
      "(2846,)\n",
      "(5782, 5, 9)\n",
      "(5782,)\n"
     ]
    }
   ],
   "source": [
    "#根據前面幾個資料來看下一步 彙整成look_back行的資料\n",
    "#X用以輸入 Y用用以predict\n",
    "look_back=5\n",
    "trainX,trainY=create_dataset(train,look_back)\n",
    "testX,testY=create_dataset(test,look_back)\n",
    "print(testX.shape)\n",
    "#print(testX)\n",
    "print(testY.shape)\n",
    "print(trainX.shape)\n",
    "print(trainY.shape)\n"
   ]
  },
  {
   "cell_type": "code",
   "execution_count": 20,
   "metadata": {},
   "outputs": [],
   "source": [
    "def objective(trial):\n",
    "    model = Sequential()\n",
    "\n",
    "    # 定義 GRU 層\n",
    "    model.add(GRU(\n",
    "        units=trial.suggest_int(\"units\", 32, 256),\n",
    "        activation=trial.suggest_categorical(\"activation\", ['relu', 'tanh']),\n",
    "        input_shape=(look_back,9)\n",
    "    ))\n",
    "\n",
    "    # 全連接層\n",
    "    model.add(Dense(units=64, activation=\"relu\"))\n",
    "    model.add(Dropout(rate=trial.suggest_float('dropout_rate', 0.0, 0.5)))\n",
    "\n",
    "    # 輸出層\n",
    "    model.add(Dense(units=1, activation=\"linear\"))\n",
    "\n",
    "    model.compile(optimizer=\"adam\", loss=\"mean_squared_error\")\n",
    "\n",
    "    # 訓練模型\n",
    "    model.fit(trainX, trainY, epochs=5, batch_size=32, verbose=0)\n",
    "\n",
    "    # 進行預測\n",
    "    y_pred = model.predict(testX)\n",
    "\n",
    "    # 計算均方誤差\n",
    "    mse = mean_squared_error(testY, y_pred)\n",
    "\n",
    "    return mse"
   ]
  },
  {
   "cell_type": "code",
   "execution_count": 21,
   "metadata": {},
   "outputs": [
    {
     "name": "stderr",
     "output_type": "stream",
     "text": [
      "[I 2024-01-30 18:33:14,505] A new study created in memory with name: no-name-bc8cde1a-1fe4-44fa-9507-37117d477999\n"
     ]
    },
    {
     "name": "stdout",
     "output_type": "stream",
     "text": [
      "89/89 [==============================] - 1s 3ms/step\n"
     ]
    },
    {
     "name": "stderr",
     "output_type": "stream",
     "text": [
      "[I 2024-01-30 18:33:26,410] Trial 0 finished with value: 0.0038016890175640583 and parameters: {'units': 216, 'activation': 'tanh', 'dropout_rate': 0.4964566604800916}. Best is trial 0 with value: 0.0038016890175640583.\n"
     ]
    },
    {
     "name": "stdout",
     "output_type": "stream",
     "text": [
      "89/89 [==============================] - 0s 2ms/step\n"
     ]
    },
    {
     "name": "stderr",
     "output_type": "stream",
     "text": [
      "[I 2024-01-30 18:33:32,088] Trial 1 finished with value: 0.0037666717544198036 and parameters: {'units': 93, 'activation': 'relu', 'dropout_rate': 0.38637277283778}. Best is trial 1 with value: 0.0037666717544198036.\n"
     ]
    },
    {
     "name": "stdout",
     "output_type": "stream",
     "text": [
      "89/89 [==============================] - 0s 2ms/step\n"
     ]
    },
    {
     "name": "stderr",
     "output_type": "stream",
     "text": [
      "[I 2024-01-30 18:33:37,284] Trial 2 finished with value: 0.0034374624956399202 and parameters: {'units': 68, 'activation': 'relu', 'dropout_rate': 0.04096213318521408}. Best is trial 2 with value: 0.0034374624956399202.\n"
     ]
    },
    {
     "name": "stdout",
     "output_type": "stream",
     "text": [
      "89/89 [==============================] - 0s 3ms/step\n"
     ]
    },
    {
     "name": "stderr",
     "output_type": "stream",
     "text": [
      "[I 2024-01-30 18:33:44,192] Trial 3 finished with value: 0.0031346336472779512 and parameters: {'units': 158, 'activation': 'relu', 'dropout_rate': 0.09473313865210642}. Best is trial 3 with value: 0.0031346336472779512.\n"
     ]
    },
    {
     "name": "stdout",
     "output_type": "stream",
     "text": [
      "89/89 [==============================] - 0s 3ms/step\n"
     ]
    },
    {
     "name": "stderr",
     "output_type": "stream",
     "text": [
      "[I 2024-01-30 18:33:50,889] Trial 4 finished with value: 0.0031703333370387554 and parameters: {'units': 154, 'activation': 'relu', 'dropout_rate': 0.004474109357775757}. Best is trial 3 with value: 0.0031346336472779512.\n"
     ]
    },
    {
     "name": "stdout",
     "output_type": "stream",
     "text": [
      "89/89 [==============================] - 1s 3ms/step\n"
     ]
    },
    {
     "name": "stderr",
     "output_type": "stream",
     "text": [
      "[I 2024-01-30 18:33:59,619] Trial 5 finished with value: 0.00374271790497005 and parameters: {'units': 141, 'activation': 'tanh', 'dropout_rate': 0.47629156512286763}. Best is trial 3 with value: 0.0031346336472779512.\n"
     ]
    },
    {
     "name": "stdout",
     "output_type": "stream",
     "text": [
      "89/89 [==============================] - 0s 2ms/step\n"
     ]
    },
    {
     "name": "stderr",
     "output_type": "stream",
     "text": [
      "[I 2024-01-30 18:34:04,609] Trial 6 finished with value: 0.004069330170750618 and parameters: {'units': 73, 'activation': 'relu', 'dropout_rate': 0.498644546822773}. Best is trial 3 with value: 0.0031346336472779512.\n"
     ]
    },
    {
     "name": "stdout",
     "output_type": "stream",
     "text": [
      "89/89 [==============================] - 0s 3ms/step\n"
     ]
    },
    {
     "name": "stderr",
     "output_type": "stream",
     "text": [
      "[I 2024-01-30 18:34:14,048] Trial 7 finished with value: 0.003240453079342842 and parameters: {'units': 188, 'activation': 'relu', 'dropout_rate': 0.44118661813681315}. Best is trial 3 with value: 0.0031346336472779512.\n"
     ]
    },
    {
     "name": "stdout",
     "output_type": "stream",
     "text": [
      "89/89 [==============================] - 0s 2ms/step\n"
     ]
    },
    {
     "name": "stderr",
     "output_type": "stream",
     "text": [
      "[I 2024-01-30 18:34:19,058] Trial 8 finished with value: 0.0031426134519279003 and parameters: {'units': 34, 'activation': 'relu', 'dropout_rate': 0.31696409177343515}. Best is trial 3 with value: 0.0031346336472779512.\n"
     ]
    },
    {
     "name": "stdout",
     "output_type": "stream",
     "text": [
      "89/89 [==============================] - 1s 3ms/step\n"
     ]
    },
    {
     "name": "stderr",
     "output_type": "stream",
     "text": [
      "[I 2024-01-30 18:34:28,584] Trial 9 finished with value: 0.003105364041402936 and parameters: {'units': 193, 'activation': 'tanh', 'dropout_rate': 0.082379383823238}. Best is trial 9 with value: 0.003105364041402936.\n"
     ]
    },
    {
     "name": "stdout",
     "output_type": "stream",
     "text": [
      "89/89 [==============================] - 1s 4ms/step\n"
     ]
    },
    {
     "name": "stderr",
     "output_type": "stream",
     "text": [
      "[I 2024-01-30 18:34:40,405] Trial 10 finished with value: 0.003180046798661351 and parameters: {'units': 254, 'activation': 'tanh', 'dropout_rate': 0.14785852967262314}. Best is trial 9 with value: 0.003105364041402936.\n"
     ]
    },
    {
     "name": "stdout",
     "output_type": "stream",
     "text": [
      "89/89 [==============================] - 1s 3ms/step\n"
     ]
    },
    {
     "name": "stderr",
     "output_type": "stream",
     "text": [
      "[I 2024-01-30 18:34:48,450] Trial 11 finished with value: 0.003178559010848403 and parameters: {'units': 157, 'activation': 'tanh', 'dropout_rate': 0.14919953165442829}. Best is trial 9 with value: 0.003105364041402936.\n"
     ]
    },
    {
     "name": "stdout",
     "output_type": "stream",
     "text": [
      "89/89 [==============================] - 1s 3ms/step\n"
     ]
    },
    {
     "name": "stderr",
     "output_type": "stream",
     "text": [
      "[I 2024-01-30 18:34:58,265] Trial 12 finished with value: 0.003192674368619919 and parameters: {'units': 197, 'activation': 'tanh', 'dropout_rate': 0.12902659921291149}. Best is trial 9 with value: 0.003105364041402936.\n"
     ]
    },
    {
     "name": "stdout",
     "output_type": "stream",
     "text": [
      "89/89 [==============================] - 1s 3ms/step\n"
     ]
    },
    {
     "name": "stderr",
     "output_type": "stream",
     "text": [
      "[I 2024-01-30 18:35:05,777] Trial 13 finished with value: 0.003243585117161274 and parameters: {'units': 118, 'activation': 'tanh', 'dropout_rate': 0.23145788506682594}. Best is trial 9 with value: 0.003105364041402936.\n"
     ]
    },
    {
     "name": "stdout",
     "output_type": "stream",
     "text": [
      "89/89 [==============================] - 1s 4ms/step\n"
     ]
    },
    {
     "name": "stderr",
     "output_type": "stream",
     "text": [
      "[I 2024-01-30 18:35:15,489] Trial 14 finished with value: 0.003935519140213728 and parameters: {'units': 234, 'activation': 'relu', 'dropout_rate': 0.08152136192006748}. Best is trial 9 with value: 0.003105364041402936.\n"
     ]
    },
    {
     "name": "stdout",
     "output_type": "stream",
     "text": [
      "89/89 [==============================] - 1s 3ms/step\n"
     ]
    },
    {
     "name": "stderr",
     "output_type": "stream",
     "text": [
      "[I 2024-01-30 18:35:24,708] Trial 15 finished with value: 0.005135820247232914 and parameters: {'units': 173, 'activation': 'tanh', 'dropout_rate': 0.22621972133799592}. Best is trial 9 with value: 0.003105364041402936.\n"
     ]
    },
    {
     "name": "stdout",
     "output_type": "stream",
     "text": [
      "89/89 [==============================] - 0s 3ms/step\n"
     ]
    },
    {
     "name": "stderr",
     "output_type": "stream",
     "text": [
      "[I 2024-01-30 18:35:31,897] Trial 16 finished with value: 0.004078037571161985 and parameters: {'units': 125, 'activation': 'relu', 'dropout_rate': 0.09246786645095499}. Best is trial 9 with value: 0.003105364041402936.\n"
     ]
    },
    {
     "name": "stdout",
     "output_type": "stream",
     "text": [
      "89/89 [==============================] - 1s 3ms/step\n"
     ]
    },
    {
     "name": "stderr",
     "output_type": "stream",
     "text": [
      "[I 2024-01-30 18:35:42,519] Trial 17 finished with value: 0.004642804153263569 and parameters: {'units': 212, 'activation': 'tanh', 'dropout_rate': 0.1940891623817127}. Best is trial 9 with value: 0.003105364041402936.\n"
     ]
    },
    {
     "name": "stdout",
     "output_type": "stream",
     "text": [
      "89/89 [==============================] - 0s 3ms/step\n"
     ]
    },
    {
     "name": "stderr",
     "output_type": "stream",
     "text": [
      "[I 2024-01-30 18:35:50,675] Trial 18 finished with value: 0.0037103171925991774 and parameters: {'units': 183, 'activation': 'relu', 'dropout_rate': 0.299469663293549}. Best is trial 9 with value: 0.003105364041402936.\n"
     ]
    },
    {
     "name": "stdout",
     "output_type": "stream",
     "text": [
      "89/89 [==============================] - 1s 3ms/step\n"
     ]
    },
    {
     "name": "stderr",
     "output_type": "stream",
     "text": [
      "[I 2024-01-30 18:35:58,639] Trial 19 finished with value: 0.0035271032247692347 and parameters: {'units': 116, 'activation': 'tanh', 'dropout_rate': 0.012414918625657412}. Best is trial 9 with value: 0.003105364041402936.\n"
     ]
    },
    {
     "name": "stdout",
     "output_type": "stream",
     "text": [
      "Best Hyperparameters: {'units': 193, 'activation': 'tanh', 'dropout_rate': 0.082379383823238}\n"
     ]
    }
   ],
   "source": [
    "study = optuna.create_study(direction=\"minimize\")\n",
    "study.optimize(objective, n_trials=20)\n",
    "\n",
    "# 取得最佳超參數\n",
    "best_params = study.best_params\n",
    "print(\"Best Hyperparameters:\", best_params)"
   ]
  }
 ],
 "metadata": {
  "kernelspec": {
   "display_name": "base",
   "language": "python",
   "name": "python3"
  },
  "language_info": {
   "codemirror_mode": {
    "name": "ipython",
    "version": 3
   },
   "file_extension": ".py",
   "mimetype": "text/x-python",
   "name": "python",
   "nbconvert_exporter": "python",
   "pygments_lexer": "ipython3",
   "version": "3.10.9"
  }
 },
 "nbformat": 4,
 "nbformat_minor": 2
}
