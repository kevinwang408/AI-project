{
 "cells": [
  {
   "cell_type": "code",
   "execution_count": 1,
   "metadata": {},
   "outputs": [],
   "source": [
    "import pandas as pd\n",
    "import matplotlib.pyplot as plt\n",
    "import numpy as np\n",
    "from pandas import read_csv\n",
    "import math\n",
    "from sklearn.preprocessing import MinMaxScaler\n",
    "from sklearn.tree import DecisionTreeRegressor\n",
    "from sklearn.metrics import mean_squared_error\n",
    "from sklearn.metrics import mean_absolute_error\n",
    "import matplotlib.pyplot as plt\n",
    "from sklearn.model_selection import train_test_split\n",
    "import predict"
   ]
  },
  {
   "cell_type": "code",
   "execution_count": null,
   "metadata": {},
   "outputs": [
    {
     "data": {
      "text/html": [
       "<div>\n",
       "<style scoped>\n",
       "    .dataframe tbody tr th:only-of-type {\n",
       "        vertical-align: middle;\n",
       "    }\n",
       "\n",
       "    .dataframe tbody tr th {\n",
       "        vertical-align: top;\n",
       "    }\n",
       "\n",
       "    .dataframe thead th {\n",
       "        text-align: right;\n",
       "    }\n",
       "</style>\n",
       "<table border=\"1\" class=\"dataframe\">\n",
       "  <thead>\n",
       "    <tr style=\"text-align: right;\">\n",
       "      <th></th>\n",
       "      <th>UNIXTime</th>\n",
       "      <th>Radiation</th>\n",
       "      <th>Temperature</th>\n",
       "      <th>Pressure</th>\n",
       "      <th>Humidity</th>\n",
       "      <th>WindDirection(Degrees)</th>\n",
       "      <th>Speed</th>\n",
       "      <th>TimeSunRise</th>\n",
       "      <th>TimeSunSet</th>\n",
       "    </tr>\n",
       "  </thead>\n",
       "  <tbody>\n",
       "    <tr>\n",
       "      <th>0</th>\n",
       "      <td>8</td>\n",
       "      <td>2.58</td>\n",
       "      <td>51</td>\n",
       "      <td>30.43</td>\n",
       "      <td>103</td>\n",
       "      <td>77.27</td>\n",
       "      <td>11.25</td>\n",
       "      <td>22020</td>\n",
       "      <td>67080</td>\n",
       "    </tr>\n",
       "    <tr>\n",
       "      <th>1</th>\n",
       "      <td>310</td>\n",
       "      <td>2.83</td>\n",
       "      <td>51</td>\n",
       "      <td>30.43</td>\n",
       "      <td>103</td>\n",
       "      <td>153.44</td>\n",
       "      <td>9.00</td>\n",
       "      <td>22020</td>\n",
       "      <td>67080</td>\n",
       "    </tr>\n",
       "    <tr>\n",
       "      <th>2</th>\n",
       "      <td>1206</td>\n",
       "      <td>2.16</td>\n",
       "      <td>51</td>\n",
       "      <td>30.43</td>\n",
       "      <td>103</td>\n",
       "      <td>142.04</td>\n",
       "      <td>7.87</td>\n",
       "      <td>22020</td>\n",
       "      <td>67080</td>\n",
       "    </tr>\n",
       "    <tr>\n",
       "      <th>3</th>\n",
       "      <td>1505</td>\n",
       "      <td>2.21</td>\n",
       "      <td>51</td>\n",
       "      <td>30.43</td>\n",
       "      <td>103</td>\n",
       "      <td>144.12</td>\n",
       "      <td>18.00</td>\n",
       "      <td>22020</td>\n",
       "      <td>67080</td>\n",
       "    </tr>\n",
       "    <tr>\n",
       "      <th>4</th>\n",
       "      <td>1809</td>\n",
       "      <td>2.25</td>\n",
       "      <td>51</td>\n",
       "      <td>30.43</td>\n",
       "      <td>103</td>\n",
       "      <td>67.42</td>\n",
       "      <td>11.25</td>\n",
       "      <td>22020</td>\n",
       "      <td>67080</td>\n",
       "    </tr>\n",
       "  </tbody>\n",
       "</table>\n",
       "</div>"
      ],
      "text/plain": [
       "   UNIXTime  Radiation  Temperature  Pressure  Humidity  \\\n",
       "0         8       2.58           51     30.43       103   \n",
       "1       310       2.83           51     30.43       103   \n",
       "2      1206       2.16           51     30.43       103   \n",
       "3      1505       2.21           51     30.43       103   \n",
       "4      1809       2.25           51     30.43       103   \n",
       "\n",
       "   WindDirection(Degrees)  Speed  TimeSunRise  TimeSunSet  \n",
       "0                   77.27  11.25        22020       67080  \n",
       "1                  153.44   9.00        22020       67080  \n",
       "2                  142.04   7.87        22020       67080  \n",
       "3                  144.12  18.00        22020       67080  \n",
       "4                   67.42  11.25        22020       67080  "
      ]
     },
     "execution_count": 2,
     "metadata": {},
     "output_type": "execute_result"
    }
   ],
   "source": [
    "dataset=pd.read_csv('SolarRadiationPrediction.csv',engine='python',nrows=576*15)\n",
    "dataset=dataset.drop(\"Data\",axis=1)\n",
    "dataset=dataset.drop(\"Time\",axis=1)\n",
    "target=dataset[\"Radiation\"]\n",
    "#target=dataset[\"Radiation\"]\n",
    "dataset.head(5)\n"
   ]
  },
  {
   "cell_type": "code",
   "execution_count": 3,
   "metadata": {},
   "outputs": [],
   "source": [
    "\n",
    "dataset=dataset.values\n",
    "target=target.values\n",
    "\n"
   ]
  },
  {
   "cell_type": "code",
   "execution_count": null,
   "metadata": {},
   "outputs": [],
   "source": []
  },
  {
   "cell_type": "markdown",
   "metadata": {},
   "source": [
    "資料交換 這邊為lookback"
   ]
  },
  {
   "cell_type": "code",
   "execution_count": 4,
   "metadata": {},
   "outputs": [],
   "source": [
    "dataset[:,1]=dataset[:,8]\n",
    "dataset[:,8]=target[:]\n",
    "#print(dataset[0,:])\n",
    "# print(temp1)\n",
    "# print(temp2)\n",
    "#target=target.values\n",
    "#target=target.values"
   ]
  },
  {
   "cell_type": "code",
   "execution_count": 5,
   "metadata": {},
   "outputs": [],
   "source": [
    "def create_dataset(dataset,look_back):\n",
    "    dataX,dataY=[],[]\n",
    "    for i in range(len(dataset)-look_back-1):\n",
    "        #a=dataset第0行i~i+look_back個\n",
    "        a=dataset[i:(i+look_back),0:9]\n",
    "        dataX.append(a)\n",
    "        dataY.append(dataset[i+look_back,8])\n",
    "    return np.array(dataX),np.array(dataY)\n",
    "\n",
    "    "
   ]
  },
  {
   "cell_type": "code",
   "execution_count": 6,
   "metadata": {},
   "outputs": [],
   "source": [
    "train_size=int(len(dataset)*0.67)\n",
    "test_size=len(dataset)- train_size\n",
    "train,test=dataset[0:train_size,:],dataset[train_size:len(dataset),:]\n"
   ]
  },
  {
   "cell_type": "code",
   "execution_count": 7,
   "metadata": {},
   "outputs": [
    {
     "name": "stdout",
     "output_type": "stream",
     "text": [
      "train_x:  (5782, 5, 9)\n",
      "train y:  (5782,)\n",
      "testX:  (2846, 5, 9)\n",
      "[[8.0000e+00 6.7080e+04 5.1000e+01 3.0430e+01 1.0300e+02 7.7270e+01\n",
      "  1.1250e+01 2.2020e+04 2.5800e+00]\n",
      " [3.1000e+02 6.7080e+04 5.1000e+01 3.0430e+01 1.0300e+02 1.5344e+02\n",
      "  9.0000e+00 2.2020e+04 2.8300e+00]\n",
      " [1.2060e+03 6.7080e+04 5.1000e+01 3.0430e+01 1.0300e+02 1.4204e+02\n",
      "  7.8700e+00 2.2020e+04 2.1600e+00]\n",
      " [1.5050e+03 6.7080e+04 5.1000e+01 3.0430e+01 1.0300e+02 1.4412e+02\n",
      "  1.8000e+01 2.2020e+04 2.2100e+00]\n",
      " [1.8090e+03 6.7080e+04 5.1000e+01 3.0430e+01 1.0300e+02 6.7420e+01\n",
      "  1.1250e+01 2.2020e+04 2.2500e+00]]\n",
      "2.15\n"
     ]
    }
   ],
   "source": [
    "trainX,trainY=create_dataset(train,5)\n",
    "testX,testY=create_dataset(test,5)\n",
    "print(\"train_x: \",trainX.shape)\n",
    "print(\"train y: \",trainY.shape)\n",
    "print(\"testX: \",testX.shape)\n",
    "print(trainX[0,:,:])\n",
    "print(trainY[0])"
   ]
  },
  {
   "cell_type": "code",
   "execution_count": 8,
   "metadata": {},
   "outputs": [
    {
     "name": "stdout",
     "output_type": "stream",
     "text": [
      "(5782, 45)\n",
      "[8.0000e+00 6.7080e+04 5.1000e+01 3.0430e+01 1.0300e+02 7.7270e+01\n",
      " 1.1250e+01 2.2020e+04 2.5800e+00 3.1000e+02 6.7080e+04 5.1000e+01\n",
      " 3.0430e+01 1.0300e+02 1.5344e+02 9.0000e+00 2.2020e+04 2.8300e+00\n",
      " 1.2060e+03 6.7080e+04 5.1000e+01 3.0430e+01 1.0300e+02 1.4204e+02\n",
      " 7.8700e+00 2.2020e+04 2.1600e+00 1.5050e+03 6.7080e+04 5.1000e+01\n",
      " 3.0430e+01 1.0300e+02 1.4412e+02 1.8000e+01 2.2020e+04 2.2100e+00\n",
      " 1.8090e+03 6.7080e+04 5.1000e+01 3.0430e+01 1.0300e+02 6.7420e+01\n",
      " 1.1250e+01 2.2020e+04 2.2500e+00]\n"
     ]
    }
   ],
   "source": [
    "trainX=trainX.reshape(5782,45)\n",
    "testX=testX.reshape(2846,45)\n",
    "trainY=trainY.reshape(len(trainY),1)\n",
    "testY=testY.reshape(len(testY),1)\n",
    "print(trainX.shape)\n",
    "print(trainX[0,:])"
   ]
  },
  {
   "cell_type": "code",
   "execution_count": 9,
   "metadata": {},
   "outputs": [],
   "source": [
    "np.random.seed(7)\n",
    "\n",
    "\n",
    "dataset=dataset.astype('float32')\n",
    "target=target.astype('float32')\n",
    "\n",
    "scalar1=MinMaxScaler(feature_range=(0,1))\n",
    "scalar2=MinMaxScaler(feature_range=(0,1))\n",
    "scalar3=MinMaxScaler(feature_range=(0,1))\n",
    "scalar4=MinMaxScaler(feature_range=(0,1))\n",
    "#scalar_dim=dataset[:,1]\n",
    "\n",
    "#target=dataset[:,1]\n",
    "trainX=scalar1.fit_transform(trainX)\n",
    "testX=scalar2.fit_transform(testX)\n",
    "trainY=scalar3.fit_transform(trainY)\n",
    "testY=scalar4.fit_transform(testY)\n",
    "#target=target.reshape(len(target),1)\n",
    "# target=scalar2.fit_transform(target)\n"
   ]
  },
  {
   "cell_type": "code",
   "execution_count": 10,
   "metadata": {},
   "outputs": [],
   "source": [
    "# print(trainX)\n",
    "# print(trainY)\n",
    "# print(testX)\n",
    "# print(testY)"
   ]
  },
  {
   "cell_type": "code",
   "execution_count": 11,
   "metadata": {},
   "outputs": [],
   "source": [
    "# train_size=int(len(dataset)*0.67)\n",
    "# test_size=len(dataset)- train_size\n",
    "# train,test=dataset[0:train_size,:],dataset[train_size:len(dataset),:]\n",
    "\n",
    "# print(train.shape)\n",
    "# print(train)\n",
    "# print(test.shape)\n",
    "#print(test)"
   ]
  },
  {
   "cell_type": "markdown",
   "metadata": {},
   "source": [
    "一維分析 無lookback"
   ]
  },
  {
   "cell_type": "code",
   "execution_count": 12,
   "metadata": {},
   "outputs": [],
   "source": [
    "# train_size=int(len(dataset)*0.67)\n",
    "# test_size=len(dataset)- train_size\n",
    "# trainX,testX=dataset[0:train_size,:],dataset[train_size:len(dataset),:]\n",
    "# trainY,testY=target[0:train_size],target[train_size:len(target)]\n",
    "\n"
   ]
  },
  {
   "cell_type": "code",
   "execution_count": 13,
   "metadata": {},
   "outputs": [],
   "source": [
    "# np.random.seed(7)\n",
    "\n",
    "\n",
    "# # dataset=dataset.astype('float32')\n",
    "# # target=target.astype('float32')\n",
    "# trainY=trainY.reshape(len(trainY),1)\n",
    "# testY=testY.reshape(len(testY),1)\n",
    "# scalar1=MinMaxScaler(feature_range=(0,1))\n",
    "# scalar2=MinMaxScaler(feature_range=(0,1))\n",
    "# scalar3=MinMaxScaler(feature_range=(0,1))\n",
    "# scalar4=MinMaxScaler(feature_range=(0,1))\n",
    "# #scalar_dim=dataset[:,1]\n",
    "\n",
    "# #target=dataset[:,1]\n",
    "# trainX=scalar1.fit_transform(trainX)\n",
    "# testX=scalar2.fit_transform(testX)\n",
    "# trainY=scalar3.fit_transform(trainY)\n",
    "# testY=scalar4.fit_transform(testY)\n",
    "# #target=target.reshape(len(target),1)\n",
    "# # target=scalar2.fit_transform(target)\n"
   ]
  },
  {
   "cell_type": "code",
   "execution_count": null,
   "metadata": {},
   "outputs": [],
   "source": []
  },
  {
   "cell_type": "code",
   "execution_count": 14,
   "metadata": {},
   "outputs": [],
   "source": [
    "# print(y_train.shape)\n",
    "# print(y_test.shape)\n",
    "# print(X_train.shape)\n",
    "# print(X_test.shape)"
   ]
  },
  {
   "cell_type": "markdown",
   "metadata": {},
   "source": [
    "使用split"
   ]
  },
  {
   "cell_type": "code",
   "execution_count": 15,
   "metadata": {},
   "outputs": [],
   "source": [
    "#X_train, X_test, y_train, y_test = train_test_split(dataset, target, test_size=0.2, random_state=42)\n"
   ]
  },
  {
   "cell_type": "markdown",
   "metadata": {},
   "source": [
    "有look back\n",
    "似乎不能用三維 無法look back"
   ]
  },
  {
   "cell_type": "code",
   "execution_count": 16,
   "metadata": {},
   "outputs": [],
   "source": [
    "# #根據前面幾個資料來看下一步 彙整成look_back行的資料\n",
    "# #X用以輸入 Y用用以predict\n",
    "# look_back=5\n",
    "# trainX,trainY=create_dataset(train,look_back)\n",
    "# testX,testY=create_dataset(test,look_back)\n",
    "# print(testX.shape)\n",
    "# #print(testX)\n",
    "# print(testY.shape)\n",
    "# print(trainX.shape)\n",
    "# print(trainY.shape)\n"
   ]
  },
  {
   "cell_type": "markdown",
   "metadata": {},
   "source": [
    "TCN　test"
   ]
  },
  {
   "cell_type": "code",
   "execution_count": 17,
   "metadata": {},
   "outputs": [],
   "source": [
    "# model=TCN()\n",
    "# model.fit(trainX,trainY)"
   ]
  },
  {
   "cell_type": "code",
   "execution_count": 18,
   "metadata": {},
   "outputs": [
    {
     "name": "stderr",
     "output_type": "stream",
     "text": [
      "C:\\Users\\wang8\\anaconda3\\lib\\site-packages\\sklearn\\tree\\_classes.py:277: FutureWarning: `max_features='auto'` has been deprecated in 1.1 and will be removed in 1.3. To keep the past behaviour, explicitly set `max_features=1.0'`.\n",
      "  warnings.warn(\n"
     ]
    },
    {
     "data": {
      "text/html": [
       "<style>#sk-container-id-1 {color: black;background-color: white;}#sk-container-id-1 pre{padding: 0;}#sk-container-id-1 div.sk-toggleable {background-color: white;}#sk-container-id-1 label.sk-toggleable__label {cursor: pointer;display: block;width: 100%;margin-bottom: 0;padding: 0.3em;box-sizing: border-box;text-align: center;}#sk-container-id-1 label.sk-toggleable__label-arrow:before {content: \"▸\";float: left;margin-right: 0.25em;color: #696969;}#sk-container-id-1 label.sk-toggleable__label-arrow:hover:before {color: black;}#sk-container-id-1 div.sk-estimator:hover label.sk-toggleable__label-arrow:before {color: black;}#sk-container-id-1 div.sk-toggleable__content {max-height: 0;max-width: 0;overflow: hidden;text-align: left;background-color: #f0f8ff;}#sk-container-id-1 div.sk-toggleable__content pre {margin: 0.2em;color: black;border-radius: 0.25em;background-color: #f0f8ff;}#sk-container-id-1 input.sk-toggleable__control:checked~div.sk-toggleable__content {max-height: 200px;max-width: 100%;overflow: auto;}#sk-container-id-1 input.sk-toggleable__control:checked~label.sk-toggleable__label-arrow:before {content: \"▾\";}#sk-container-id-1 div.sk-estimator input.sk-toggleable__control:checked~label.sk-toggleable__label {background-color: #d4ebff;}#sk-container-id-1 div.sk-label input.sk-toggleable__control:checked~label.sk-toggleable__label {background-color: #d4ebff;}#sk-container-id-1 input.sk-hidden--visually {border: 0;clip: rect(1px 1px 1px 1px);clip: rect(1px, 1px, 1px, 1px);height: 1px;margin: -1px;overflow: hidden;padding: 0;position: absolute;width: 1px;}#sk-container-id-1 div.sk-estimator {font-family: monospace;background-color: #f0f8ff;border: 1px dotted black;border-radius: 0.25em;box-sizing: border-box;margin-bottom: 0.5em;}#sk-container-id-1 div.sk-estimator:hover {background-color: #d4ebff;}#sk-container-id-1 div.sk-parallel-item::after {content: \"\";width: 100%;border-bottom: 1px solid gray;flex-grow: 1;}#sk-container-id-1 div.sk-label:hover label.sk-toggleable__label {background-color: #d4ebff;}#sk-container-id-1 div.sk-serial::before {content: \"\";position: absolute;border-left: 1px solid gray;box-sizing: border-box;top: 0;bottom: 0;left: 50%;z-index: 0;}#sk-container-id-1 div.sk-serial {display: flex;flex-direction: column;align-items: center;background-color: white;padding-right: 0.2em;padding-left: 0.2em;position: relative;}#sk-container-id-1 div.sk-item {position: relative;z-index: 1;}#sk-container-id-1 div.sk-parallel {display: flex;align-items: stretch;justify-content: center;background-color: white;position: relative;}#sk-container-id-1 div.sk-item::before, #sk-container-id-1 div.sk-parallel-item::before {content: \"\";position: absolute;border-left: 1px solid gray;box-sizing: border-box;top: 0;bottom: 0;left: 50%;z-index: -1;}#sk-container-id-1 div.sk-parallel-item {display: flex;flex-direction: column;z-index: 1;position: relative;background-color: white;}#sk-container-id-1 div.sk-parallel-item:first-child::after {align-self: flex-end;width: 50%;}#sk-container-id-1 div.sk-parallel-item:last-child::after {align-self: flex-start;width: 50%;}#sk-container-id-1 div.sk-parallel-item:only-child::after {width: 0;}#sk-container-id-1 div.sk-dashed-wrapped {border: 1px dashed gray;margin: 0 0.4em 0.5em 0.4em;box-sizing: border-box;padding-bottom: 0.4em;background-color: white;}#sk-container-id-1 div.sk-label label {font-family: monospace;font-weight: bold;display: inline-block;line-height: 1.2em;}#sk-container-id-1 div.sk-label-container {text-align: center;}#sk-container-id-1 div.sk-container {/* jupyter's `normalize.less` sets `[hidden] { display: none; }` but bootstrap.min.css set `[hidden] { display: none !important; }` so we also need the `!important` here to be able to override the default hidden behavior on the sphinx rendered scikit-learn.org. See: https://github.com/scikit-learn/scikit-learn/issues/21755 */display: inline-block !important;position: relative;}#sk-container-id-1 div.sk-text-repr-fallback {display: none;}</style><div id=\"sk-container-id-1\" class=\"sk-top-container\"><div class=\"sk-text-repr-fallback\"><pre>DecisionTreeRegressor(max_depth=5, max_features=&#x27;auto&#x27;, min_samples_leaf=20,\n",
       "                      min_samples_split=18)</pre><b>In a Jupyter environment, please rerun this cell to show the HTML representation or trust the notebook. <br />On GitHub, the HTML representation is unable to render, please try loading this page with nbviewer.org.</b></div><div class=\"sk-container\" hidden><div class=\"sk-item\"><div class=\"sk-estimator sk-toggleable\"><input class=\"sk-toggleable__control sk-hidden--visually\" id=\"sk-estimator-id-1\" type=\"checkbox\" checked><label for=\"sk-estimator-id-1\" class=\"sk-toggleable__label sk-toggleable__label-arrow\">DecisionTreeRegressor</label><div class=\"sk-toggleable__content\"><pre>DecisionTreeRegressor(max_depth=5, max_features=&#x27;auto&#x27;, min_samples_leaf=20,\n",
       "                      min_samples_split=18)</pre></div></div></div></div></div>"
      ],
      "text/plain": [
       "DecisionTreeRegressor(max_depth=5, max_features='auto', min_samples_leaf=20,\n",
       "                      min_samples_split=18)"
      ]
     },
     "execution_count": 18,
     "metadata": {},
     "output_type": "execute_result"
    }
   ],
   "source": [
    "#X_train, X_test, y_train, y_test = train_test_split(X, y, test_size=0.2, random_state=42)\n",
    "\n",
    "# 初始化決策樹回歸模型\n",
    "model = DecisionTreeRegressor(max_depth=5,min_samples_split=18,min_samples_leaf=20,max_features='auto')\n",
    "# 訓練模型\n",
    "model.fit(trainX,trainY)"
   ]
  },
  {
   "cell_type": "code",
   "execution_count": 19,
   "metadata": {},
   "outputs": [],
   "source": [
    "y_pred = model.predict(testX)\n",
    "train_pre=model.predict(trainX)"
   ]
  },
  {
   "cell_type": "code",
   "execution_count": 20,
   "metadata": {},
   "outputs": [],
   "source": [
    "# print(y_pred.shape)\n",
    "# print(trainY.shape)\n",
    "# print(train_pre.shape)\n",
    "# print(y_test.shape)\n"
   ]
  },
  {
   "cell_type": "code",
   "execution_count": 21,
   "metadata": {},
   "outputs": [
    {
     "name": "stdout",
     "output_type": "stream",
     "text": [
      "2846\n",
      "5782\n"
     ]
    }
   ],
   "source": [
    "print(len(y_pred))\n",
    "print(len(train_pre))"
   ]
  },
  {
   "cell_type": "markdown",
   "metadata": {},
   "source": [
    "把預測資料轉換回去"
   ]
  },
  {
   "cell_type": "code",
   "execution_count": 22,
   "metadata": {},
   "outputs": [
    {
     "name": "stdout",
     "output_type": "stream",
     "text": [
      "(2846, 1)\n",
      "(5782, 1)\n"
     ]
    }
   ],
   "source": [
    "y_pred=np.reshape(y_pred,(len(y_pred),1))\n",
    "train_pre=np.reshape(train_pre,(len(train_pre),1))\n",
    "print(y_pred.shape)\n",
    "# print(y_train.shape)\n",
    "print(train_pre.shape)\n",
    "# print(y_test.shape)"
   ]
  },
  {
   "cell_type": "markdown",
   "metadata": {},
   "source": [
    "有轉換再用"
   ]
  },
  {
   "cell_type": "code",
   "execution_count": 23,
   "metadata": {},
   "outputs": [],
   "source": [
    "train_pre=scalar3.inverse_transform(train_pre)\n",
    "trainY=scalar3.inverse_transform(trainY)\n",
    "y_pred=scalar4.inverse_transform(y_pred)\n",
    "testY=scalar4.inverse_transform(testY)\n"
   ]
  },
  {
   "cell_type": "code",
   "execution_count": 24,
   "metadata": {},
   "outputs": [
    {
     "name": "stdout",
     "output_type": "stream",
     "text": [
      "[[1.9461126]\n",
      " [1.9461126]\n",
      " [1.9461126]\n",
      " ...\n",
      " [1.9461126]\n",
      " [1.9461126]\n",
      " [1.9461126]]\n"
     ]
    }
   ],
   "source": [
    "print(train_pre)"
   ]
  },
  {
   "cell_type": "code",
   "execution_count": 25,
   "metadata": {},
   "outputs": [
    {
     "name": "stdout",
     "output_type": "stream",
     "text": [
      "Train Score:89.32 RMSE\n",
      "Test Score:96.09 RMSE\n",
      "Test Score:42.70 MAE\n"
     ]
    }
   ],
   "source": [
    "\n",
    "\n",
    "# 評估模型性能\n",
    "trainScore=math.sqrt(mean_squared_error(trainY,train_pre))\n",
    "print('Train Score:%.2f RMSE'%(trainScore))\n",
    "testScore=math.sqrt(mean_squared_error(testY,y_pred))\n",
    "print('Test Score:%.2f RMSE'%(testScore))\n",
    "MAE=mean_absolute_error(testY,y_pred)\n",
    "print('Test Score:%.2f MAE'%(MAE))\n",
    "\n",
    "# 可以進一步分析模型的特徵重要性\n",
    "# feature_importances = model.feature_importances_\n",
    "# features = X.columns\n",
    "# feature_df = pd.DataFrame({'Feature': features, 'Importance': feature_importances})\n",
    "# feature_df = feature_df.sort_values(by='Importance', ascending=False)\n",
    "\n",
    "\n",
    "# print(\"前10個重要特徵：\")\n",
    "# print(feature_df.head(10))"
   ]
  },
  {
   "cell_type": "code",
   "execution_count": 31,
   "metadata": {},
   "outputs": [
    {
     "data": {
      "text/plain": [
       "9232.92742759803"
      ]
     },
     "execution_count": 31,
     "metadata": {},
     "output_type": "execute_result"
    }
   ],
   "source": [
    "mean_squared_error(testY,y_pred)"
   ]
  },
  {
   "cell_type": "code",
   "execution_count": 26,
   "metadata": {},
   "outputs": [],
   "source": [
    "# print(y_train.shape)\n",
    "# print(train_pre.shape)\n",
    "# print(y_train)\n",
    "# print(train_pre)"
   ]
  },
  {
   "cell_type": "code",
   "execution_count": 27,
   "metadata": {},
   "outputs": [
    {
     "name": "stdout",
     "output_type": "stream",
     "text": [
      "(2846, 1)\n",
      "(2846, 1)\n",
      "[[  1.22]\n",
      " [  1.24]\n",
      " [  1.24]\n",
      " ...\n",
      " [221.67]\n",
      " [344.9 ]\n",
      " [365.66]]\n",
      "[[  1.83093731]\n",
      " [  1.83093731]\n",
      " [  1.83093731]\n",
      " ...\n",
      " [189.5795614 ]\n",
      " [241.7552368 ]\n",
      " [383.2660359 ]]\n"
     ]
    }
   ],
   "source": [
    "print(y_pred.shape)\n",
    "print(testY.shape)\n",
    "print(testY)\n",
    "print(y_pred)"
   ]
  },
  {
   "cell_type": "code",
   "execution_count": 28,
   "metadata": {},
   "outputs": [],
   "source": [
    "# plt.plot(testY,label='Ground Truth')\n",
    "# plt.plot(y_pred,label='Prediction')\n",
    "# #plt.plot(testPredictPlot[0:200],label='Prediction(testing)')\n",
    "# plt.legend()\n",
    "# plt.show()"
   ]
  },
  {
   "cell_type": "code",
   "execution_count": 29,
   "metadata": {},
   "outputs": [],
   "source": [
    "# predict.my_self(testY,y_pred,'Decision Tree')\n",
    "# predict.score_calculation(testY,y_pred)\n",
    "# predict.plot_pred(testY,y_pred,'Decision Tree')\n",
    "# predict.plot_residuals(testY,y_pred,'Decision Tree')"
   ]
  }
 ],
 "metadata": {
  "kernelspec": {
   "display_name": "base",
   "language": "python",
   "name": "python3"
  },
  "language_info": {
   "codemirror_mode": {
    "name": "ipython",
    "version": 3
   },
   "file_extension": ".py",
   "mimetype": "text/x-python",
   "name": "python",
   "nbconvert_exporter": "python",
   "pygments_lexer": "ipython3",
   "version": "3.10.9"
  }
 },
 "nbformat": 4,
 "nbformat_minor": 2
}
