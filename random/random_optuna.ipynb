{
 "cells": [
  {
   "cell_type": "code",
   "execution_count": 1,
   "metadata": {},
   "outputs": [],
   "source": [
    "import numpy as np\n",
    "import pandas as pd\n",
    "import math\n",
    "import matplotlib.pyplot as plt\n",
    "from sklearn.preprocessing import MinMaxScaler\n",
    "from sklearn.model_selection import train_test_split\n",
    "from sklearn.ensemble import RandomForestRegressor\n",
    "from sklearn.metrics import mean_squared_error\n",
    "from sklearn.metrics import mean_absolute_error\n",
    "import predict\n",
    "import optuna"
   ]
  },
  {
   "cell_type": "code",
   "execution_count": null,
   "metadata": {},
   "outputs": [
    {
     "data": {
      "text/html": [
       "<div>\n",
       "<style scoped>\n",
       "    .dataframe tbody tr th:only-of-type {\n",
       "        vertical-align: middle;\n",
       "    }\n",
       "\n",
       "    .dataframe tbody tr th {\n",
       "        vertical-align: top;\n",
       "    }\n",
       "\n",
       "    .dataframe thead th {\n",
       "        text-align: right;\n",
       "    }\n",
       "</style>\n",
       "<table border=\"1\" class=\"dataframe\">\n",
       "  <thead>\n",
       "    <tr style=\"text-align: right;\">\n",
       "      <th></th>\n",
       "      <th>UNIXTime</th>\n",
       "      <th>Radiation</th>\n",
       "      <th>Temperature</th>\n",
       "      <th>Pressure</th>\n",
       "      <th>Humidity</th>\n",
       "      <th>WindDirection(Degrees)</th>\n",
       "      <th>Speed</th>\n",
       "      <th>TimeSunRise</th>\n",
       "      <th>TimeSunSet</th>\n",
       "    </tr>\n",
       "  </thead>\n",
       "  <tbody>\n",
       "    <tr>\n",
       "      <th>0</th>\n",
       "      <td>8</td>\n",
       "      <td>2.58</td>\n",
       "      <td>51</td>\n",
       "      <td>30.43</td>\n",
       "      <td>103</td>\n",
       "      <td>77.27</td>\n",
       "      <td>11.25</td>\n",
       "      <td>22020</td>\n",
       "      <td>67080</td>\n",
       "    </tr>\n",
       "    <tr>\n",
       "      <th>1</th>\n",
       "      <td>310</td>\n",
       "      <td>2.83</td>\n",
       "      <td>51</td>\n",
       "      <td>30.43</td>\n",
       "      <td>103</td>\n",
       "      <td>153.44</td>\n",
       "      <td>9.00</td>\n",
       "      <td>22020</td>\n",
       "      <td>67080</td>\n",
       "    </tr>\n",
       "    <tr>\n",
       "      <th>2</th>\n",
       "      <td>1206</td>\n",
       "      <td>2.16</td>\n",
       "      <td>51</td>\n",
       "      <td>30.43</td>\n",
       "      <td>103</td>\n",
       "      <td>142.04</td>\n",
       "      <td>7.87</td>\n",
       "      <td>22020</td>\n",
       "      <td>67080</td>\n",
       "    </tr>\n",
       "    <tr>\n",
       "      <th>3</th>\n",
       "      <td>1505</td>\n",
       "      <td>2.21</td>\n",
       "      <td>51</td>\n",
       "      <td>30.43</td>\n",
       "      <td>103</td>\n",
       "      <td>144.12</td>\n",
       "      <td>18.00</td>\n",
       "      <td>22020</td>\n",
       "      <td>67080</td>\n",
       "    </tr>\n",
       "    <tr>\n",
       "      <th>4</th>\n",
       "      <td>1809</td>\n",
       "      <td>2.25</td>\n",
       "      <td>51</td>\n",
       "      <td>30.43</td>\n",
       "      <td>103</td>\n",
       "      <td>67.42</td>\n",
       "      <td>11.25</td>\n",
       "      <td>22020</td>\n",
       "      <td>67080</td>\n",
       "    </tr>\n",
       "  </tbody>\n",
       "</table>\n",
       "</div>"
      ],
      "text/plain": [
       "   UNIXTime  Radiation  Temperature  Pressure  Humidity  \\\n",
       "0         8       2.58           51     30.43       103   \n",
       "1       310       2.83           51     30.43       103   \n",
       "2      1206       2.16           51     30.43       103   \n",
       "3      1505       2.21           51     30.43       103   \n",
       "4      1809       2.25           51     30.43       103   \n",
       "\n",
       "   WindDirection(Degrees)  Speed  TimeSunRise  TimeSunSet  \n",
       "0                   77.27  11.25        22020       67080  \n",
       "1                  153.44   9.00        22020       67080  \n",
       "2                  142.04   7.87        22020       67080  \n",
       "3                  144.12  18.00        22020       67080  \n",
       "4                   67.42  11.25        22020       67080  "
      ]
     },
     "execution_count": 2,
     "metadata": {},
     "output_type": "execute_result"
    }
   ],
   "source": [
    "dataset=pd.read_csv('SolarRadiationPrediction.csv',engine='python',nrows=576*15)\n",
    "dataset=dataset.drop(\"Data\",axis=1)\n",
    "dataset=dataset.drop(\"Time\",axis=1)\n",
    "#dataset=dataset.drop(\"Ra\",axis=1)\n",
    "# dataset=dataset.drop(\"TimeSunRise\",axis=1)\n",
    "# dataset=dataset.drop(\"TimeSunSet\",axis=1)\n",
    "target=dataset[\"Radiation\"]\n",
    "dataset.head(5)"
   ]
  },
  {
   "cell_type": "code",
   "execution_count": 3,
   "metadata": {},
   "outputs": [],
   "source": [
    "dataset=dataset.values\n",
    "target=target.values\n",
    "dataset[:,1]=dataset[:,8]\n",
    "dataset[:,8]=target[:]"
   ]
  },
  {
   "cell_type": "code",
   "execution_count": 4,
   "metadata": {},
   "outputs": [],
   "source": [
    "def create_dataset(dataset,look_back):\n",
    "    dataX,dataY=[],[]\n",
    "    for i in range(len(dataset)-look_back-1):\n",
    "        #a=dataset第0行i~i+look_back個\n",
    "        a=dataset[i:(i+look_back),0:9]\n",
    "        dataX.append(a)\n",
    "        dataY.append(dataset[i+look_back,8])\n",
    "    return np.array(dataX),np.array(dataY)\n",
    "\n",
    "    "
   ]
  },
  {
   "cell_type": "code",
   "execution_count": 5,
   "metadata": {},
   "outputs": [],
   "source": [
    "train_size=int(len(dataset)*0.67)\n",
    "test_size=len(dataset)- train_size\n",
    "train,test=dataset[0:train_size,:],dataset[train_size:len(dataset),:]\n"
   ]
  },
  {
   "cell_type": "code",
   "execution_count": 6,
   "metadata": {},
   "outputs": [
    {
     "name": "stdout",
     "output_type": "stream",
     "text": [
      "train_x:  (5782, 5, 9)\n",
      "train y:  (5782,)\n",
      "testX:  (2846, 5, 9)\n",
      "[[8.0000e+00 6.7080e+04 5.1000e+01 3.0430e+01 1.0300e+02 7.7270e+01\n",
      "  1.1250e+01 2.2020e+04 2.5800e+00]\n",
      " [3.1000e+02 6.7080e+04 5.1000e+01 3.0430e+01 1.0300e+02 1.5344e+02\n",
      "  9.0000e+00 2.2020e+04 2.8300e+00]\n",
      " [1.2060e+03 6.7080e+04 5.1000e+01 3.0430e+01 1.0300e+02 1.4204e+02\n",
      "  7.8700e+00 2.2020e+04 2.1600e+00]\n",
      " [1.5050e+03 6.7080e+04 5.1000e+01 3.0430e+01 1.0300e+02 1.4412e+02\n",
      "  1.8000e+01 2.2020e+04 2.2100e+00]\n",
      " [1.8090e+03 6.7080e+04 5.1000e+01 3.0430e+01 1.0300e+02 6.7420e+01\n",
      "  1.1250e+01 2.2020e+04 2.2500e+00]]\n",
      "2.15\n"
     ]
    }
   ],
   "source": [
    "trainX,trainY=create_dataset(train,5)\n",
    "testX,testY=create_dataset(test,5)\n",
    "print(\"train_x: \",trainX.shape)\n",
    "print(\"train y: \",trainY.shape)\n",
    "print(\"testX: \",testX.shape)\n",
    "print(trainX[0,:,:])\n",
    "print(trainY[0])"
   ]
  },
  {
   "cell_type": "code",
   "execution_count": 7,
   "metadata": {},
   "outputs": [
    {
     "name": "stdout",
     "output_type": "stream",
     "text": [
      "(5782, 45)\n",
      "[8.0000e+00 6.7080e+04 5.1000e+01 3.0430e+01 1.0300e+02 7.7270e+01\n",
      " 1.1250e+01 2.2020e+04 2.5800e+00 3.1000e+02 6.7080e+04 5.1000e+01\n",
      " 3.0430e+01 1.0300e+02 1.5344e+02 9.0000e+00 2.2020e+04 2.8300e+00\n",
      " 1.2060e+03 6.7080e+04 5.1000e+01 3.0430e+01 1.0300e+02 1.4204e+02\n",
      " 7.8700e+00 2.2020e+04 2.1600e+00 1.5050e+03 6.7080e+04 5.1000e+01\n",
      " 3.0430e+01 1.0300e+02 1.4412e+02 1.8000e+01 2.2020e+04 2.2100e+00\n",
      " 1.8090e+03 6.7080e+04 5.1000e+01 3.0430e+01 1.0300e+02 6.7420e+01\n",
      " 1.1250e+01 2.2020e+04 2.2500e+00]\n"
     ]
    }
   ],
   "source": [
    "trainX=trainX.reshape(5782,45)\n",
    "testX=testX.reshape(2846,45)\n",
    "trainY=trainY.reshape(len(trainY),1)\n",
    "testY=testY.reshape(len(testY),1)\n",
    "print(trainX.shape)\n",
    "print(trainX[0,:])"
   ]
  },
  {
   "cell_type": "code",
   "execution_count": 8,
   "metadata": {},
   "outputs": [],
   "source": [
    "np.random.seed(7)\n",
    "\n",
    "\n",
    "dataset=dataset.astype('float32')\n",
    "target=target.astype('float32')\n",
    "\n",
    "scalar1=MinMaxScaler(feature_range=(0,1))\n",
    "scalar2=MinMaxScaler(feature_range=(0,1))\n",
    "scalar3=MinMaxScaler(feature_range=(0,1))\n",
    "scalar4=MinMaxScaler(feature_range=(0,1))\n",
    "#scalar_dim=dataset[:,1]\n",
    "\n",
    "#target=dataset[:,1]\n",
    "trainX=scalar1.fit_transform(trainX)\n",
    "testX=scalar2.fit_transform(testX)\n",
    "trainY=scalar3.fit_transform(trainY)\n",
    "testY=scalar4.fit_transform(testY)\n",
    "#target=target.reshape(len(target),1)\n",
    "# target=scalar2.fit_transform(target)\n"
   ]
  },
  {
   "cell_type": "code",
   "execution_count": 9,
   "metadata": {},
   "outputs": [],
   "source": [
    "def objective(trial):\n",
    "    # 定義 RandomForestRegressor 的超參數範圍\n",
    "    params = {\n",
    "        'n_estimators': trial.suggest_int('n_estimators', 10, 200),\n",
    "        'max_depth': trial.suggest_int('max_depth', 3, 20),\n",
    "        'max_features': trial.suggest_categorical('max_features', ['auto', 'sqrt', 'log2']),\n",
    "    }\n",
    "\n",
    "    # 創建 RandomForestRegressor 模型\n",
    "    model = RandomForestRegressor(**params)\n",
    "\n",
    "    model.fit(trainX, trainY)\n",
    "    y_pred = model.predict(testX)\n",
    "    # 使用交叉驗證評估模型性能\n",
    "    # 使用交叉驗證評估模型性能\n",
    "    score =mean_squared_error(testY,y_pred)\n",
    "    return score"
   ]
  },
  {
   "cell_type": "code",
   "execution_count": 10,
   "metadata": {},
   "outputs": [
    {
     "name": "stderr",
     "output_type": "stream",
     "text": [
      "[I 2024-01-30 18:53:42,815] A new study created in memory with name: no-name-43482f78-18c0-4d0d-8dc4-2edc2d3fa1f5\n",
      "C:\\Users\\wang8\\AppData\\Local\\Temp\\ipykernel_28816\\3276934261.py:12: DataConversionWarning: A column-vector y was passed when a 1d array was expected. Please change the shape of y to (n_samples,), for example using ravel().\n",
      "  model.fit(trainX, trainY)\n",
      "[I 2024-01-30 18:53:43,805] Trial 0 finished with value: 0.0070392382388831205 and parameters: {'n_estimators': 79, 'max_depth': 10, 'max_features': 'log2'}. Best is trial 0 with value: 0.0070392382388831205.\n",
      "C:\\Users\\wang8\\AppData\\Local\\Temp\\ipykernel_28816\\3276934261.py:12: DataConversionWarning: A column-vector y was passed when a 1d array was expected. Please change the shape of y to (n_samples,), for example using ravel().\n",
      "  model.fit(trainX, trainY)\n",
      "[I 2024-01-30 18:53:44,485] Trial 1 finished with value: 0.007964639892713173 and parameters: {'n_estimators': 35, 'max_depth': 18, 'max_features': 'log2'}. Best is trial 0 with value: 0.0070392382388831205.\n",
      "C:\\Users\\wang8\\AppData\\Local\\Temp\\ipykernel_28816\\3276934261.py:12: DataConversionWarning: A column-vector y was passed when a 1d array was expected. Please change the shape of y to (n_samples,), for example using ravel().\n",
      "  model.fit(trainX, trainY)\n",
      "[I 2024-01-30 18:53:47,386] Trial 2 finished with value: 0.007189015421771796 and parameters: {'n_estimators': 169, 'max_depth': 15, 'max_features': 'log2'}. Best is trial 0 with value: 0.0070392382388831205.\n",
      "C:\\Users\\wang8\\AppData\\Local\\Temp\\ipykernel_28816\\3276934261.py:12: DataConversionWarning: A column-vector y was passed when a 1d array was expected. Please change the shape of y to (n_samples,), for example using ravel().\n",
      "  model.fit(trainX, trainY)\n",
      "C:\\Users\\wang8\\anaconda3\\lib\\site-packages\\sklearn\\ensemble\\_forest.py:413: FutureWarning: `max_features='auto'` has been deprecated in 1.1 and will be removed in 1.3. To keep the past behaviour, explicitly set `max_features=1.0` or remove this parameter as it is also the default value for RandomForestRegressors and ExtraTreesRegressors.\n",
      "  warn(\n",
      "[I 2024-01-30 18:54:06,751] Trial 3 finished with value: 0.007061945052236354 and parameters: {'n_estimators': 136, 'max_depth': 17, 'max_features': 'auto'}. Best is trial 0 with value: 0.0070392382388831205.\n",
      "C:\\Users\\wang8\\AppData\\Local\\Temp\\ipykernel_28816\\3276934261.py:12: DataConversionWarning: A column-vector y was passed when a 1d array was expected. Please change the shape of y to (n_samples,), for example using ravel().\n",
      "  model.fit(trainX, trainY)\n",
      "[I 2024-01-30 18:54:10,215] Trial 4 finished with value: 0.007012526158911896 and parameters: {'n_estimators': 175, 'max_depth': 19, 'max_features': 'log2'}. Best is trial 4 with value: 0.007012526158911896.\n",
      "C:\\Users\\wang8\\AppData\\Local\\Temp\\ipykernel_28816\\3276934261.py:12: DataConversionWarning: A column-vector y was passed when a 1d array was expected. Please change the shape of y to (n_samples,), for example using ravel().\n",
      "  model.fit(trainX, trainY)\n",
      "[I 2024-01-30 18:54:11,212] Trial 5 finished with value: 0.006089267049202383 and parameters: {'n_estimators': 152, 'max_depth': 4, 'max_features': 'sqrt'}. Best is trial 5 with value: 0.006089267049202383.\n",
      "C:\\Users\\wang8\\AppData\\Local\\Temp\\ipykernel_28816\\3276934261.py:12: DataConversionWarning: A column-vector y was passed when a 1d array was expected. Please change the shape of y to (n_samples,), for example using ravel().\n",
      "  model.fit(trainX, trainY)\n",
      "[I 2024-01-30 18:54:12,543] Trial 6 finished with value: 0.006858194727392139 and parameters: {'n_estimators': 134, 'max_depth': 8, 'max_features': 'log2'}. Best is trial 5 with value: 0.006089267049202383.\n",
      "C:\\Users\\wang8\\AppData\\Local\\Temp\\ipykernel_28816\\3276934261.py:12: DataConversionWarning: A column-vector y was passed when a 1d array was expected. Please change the shape of y to (n_samples,), for example using ravel().\n",
      "  model.fit(trainX, trainY)\n",
      "[I 2024-01-30 18:54:12,759] Trial 7 finished with value: 0.00787434426639904 and parameters: {'n_estimators': 42, 'max_depth': 3, 'max_features': 'log2'}. Best is trial 5 with value: 0.006089267049202383.\n",
      "C:\\Users\\wang8\\AppData\\Local\\Temp\\ipykernel_28816\\3276934261.py:12: DataConversionWarning: A column-vector y was passed when a 1d array was expected. Please change the shape of y to (n_samples,), for example using ravel().\n",
      "  model.fit(trainX, trainY)\n",
      "C:\\Users\\wang8\\anaconda3\\lib\\site-packages\\sklearn\\ensemble\\_forest.py:413: FutureWarning: `max_features='auto'` has been deprecated in 1.1 and will be removed in 1.3. To keep the past behaviour, explicitly set `max_features=1.0` or remove this parameter as it is also the default value for RandomForestRegressors and ExtraTreesRegressors.\n",
      "  warn(\n",
      "[I 2024-01-30 18:54:40,808] Trial 8 finished with value: 0.007361655790573881 and parameters: {'n_estimators': 197, 'max_depth': 19, 'max_features': 'auto'}. Best is trial 5 with value: 0.006089267049202383.\n",
      "C:\\Users\\wang8\\AppData\\Local\\Temp\\ipykernel_28816\\3276934261.py:12: DataConversionWarning: A column-vector y was passed when a 1d array was expected. Please change the shape of y to (n_samples,), for example using ravel().\n",
      "  model.fit(trainX, trainY)\n",
      "[I 2024-01-30 18:54:41,597] Trial 9 finished with value: 0.007078745482318519 and parameters: {'n_estimators': 45, 'max_depth': 16, 'max_features': 'log2'}. Best is trial 5 with value: 0.006089267049202383.\n"
     ]
    },
    {
     "name": "stdout",
     "output_type": "stream",
     "text": [
      "Best Hyperparameters: {'n_estimators': 152, 'max_depth': 4, 'max_features': 'sqrt'}\n"
     ]
    }
   ],
   "source": [
    "# 使用 Optuna 調整超參數\n",
    "study = optuna.create_study(direction='minimize')\n",
    "study.optimize(objective, n_trials=10)\n",
    "\n",
    "# 取得最佳超參數\n",
    "best_params = study.best_params\n",
    "print(\"Best Hyperparameters:\", best_params)"
   ]
  }
 ],
 "metadata": {
  "kernelspec": {
   "display_name": "base",
   "language": "python",
   "name": "python3"
  },
  "language_info": {
   "codemirror_mode": {
    "name": "ipython",
    "version": 3
   },
   "file_extension": ".py",
   "mimetype": "text/x-python",
   "name": "python",
   "nbconvert_exporter": "python",
   "pygments_lexer": "ipython3",
   "version": "3.10.9"
  }
 },
 "nbformat": 4,
 "nbformat_minor": 2
}
