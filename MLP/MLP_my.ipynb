{
 "cells": [
  {
   "cell_type": "code",
   "execution_count": 1,
   "metadata": {},
   "outputs": [],
   "source": [
    "import numpy as np\n",
    "import pandas as pd\n",
    "import math\n",
    "import matplotlib.pyplot as plt\n",
    "from sklearn.neural_network import MLPRegressor\n",
    "from sklearn.model_selection import train_test_split\n",
    "from sklearn.preprocessing import MinMaxScaler\n",
    "from sklearn.preprocessing import StandardScaler\n",
    "from sklearn.metrics import mean_squared_error\n",
    "from sklearn.metrics import mean_absolute_error\n",
    "from tensorflow.keras.models import Sequential\n",
    "from tensorflow.keras.layers import Dense,Dropout\n",
    "#from tensorflow.keras.optimizers import RMSprop\n"
   ]
  },
  {
   "cell_type": "code",
   "execution_count": 2,
   "metadata": {},
   "outputs": [
    {
     "data": {
      "text/html": [
       "<div>\n",
       "<style scoped>\n",
       "    .dataframe tbody tr th:only-of-type {\n",
       "        vertical-align: middle;\n",
       "    }\n",
       "\n",
       "    .dataframe tbody tr th {\n",
       "        vertical-align: top;\n",
       "    }\n",
       "\n",
       "    .dataframe thead th {\n",
       "        text-align: right;\n",
       "    }\n",
       "</style>\n",
       "<table border=\"1\" class=\"dataframe\">\n",
       "  <thead>\n",
       "    <tr style=\"text-align: right;\">\n",
       "      <th></th>\n",
       "      <th>UNIXTime</th>\n",
       "      <th>Radiation</th>\n",
       "      <th>Temperature</th>\n",
       "      <th>Pressure</th>\n",
       "      <th>Humidity</th>\n",
       "      <th>WindDirection(Degrees)</th>\n",
       "      <th>Speed</th>\n",
       "      <th>TimeSunRise</th>\n",
       "      <th>TimeSunSet</th>\n",
       "    </tr>\n",
       "  </thead>\n",
       "  <tbody>\n",
       "    <tr>\n",
       "      <th>0</th>\n",
       "      <td>8</td>\n",
       "      <td>2.58</td>\n",
       "      <td>51</td>\n",
       "      <td>30.43</td>\n",
       "      <td>103</td>\n",
       "      <td>77.27</td>\n",
       "      <td>11.25</td>\n",
       "      <td>22020</td>\n",
       "      <td>67080</td>\n",
       "    </tr>\n",
       "    <tr>\n",
       "      <th>1</th>\n",
       "      <td>310</td>\n",
       "      <td>2.83</td>\n",
       "      <td>51</td>\n",
       "      <td>30.43</td>\n",
       "      <td>103</td>\n",
       "      <td>153.44</td>\n",
       "      <td>9.00</td>\n",
       "      <td>22020</td>\n",
       "      <td>67080</td>\n",
       "    </tr>\n",
       "    <tr>\n",
       "      <th>2</th>\n",
       "      <td>1206</td>\n",
       "      <td>2.16</td>\n",
       "      <td>51</td>\n",
       "      <td>30.43</td>\n",
       "      <td>103</td>\n",
       "      <td>142.04</td>\n",
       "      <td>7.87</td>\n",
       "      <td>22020</td>\n",
       "      <td>67080</td>\n",
       "    </tr>\n",
       "    <tr>\n",
       "      <th>3</th>\n",
       "      <td>1505</td>\n",
       "      <td>2.21</td>\n",
       "      <td>51</td>\n",
       "      <td>30.43</td>\n",
       "      <td>103</td>\n",
       "      <td>144.12</td>\n",
       "      <td>18.00</td>\n",
       "      <td>22020</td>\n",
       "      <td>67080</td>\n",
       "    </tr>\n",
       "    <tr>\n",
       "      <th>4</th>\n",
       "      <td>1809</td>\n",
       "      <td>2.25</td>\n",
       "      <td>51</td>\n",
       "      <td>30.43</td>\n",
       "      <td>103</td>\n",
       "      <td>67.42</td>\n",
       "      <td>11.25</td>\n",
       "      <td>22020</td>\n",
       "      <td>67080</td>\n",
       "    </tr>\n",
       "  </tbody>\n",
       "</table>\n",
       "</div>"
      ],
      "text/plain": [
       "   UNIXTime  Radiation  Temperature  Pressure  Humidity  \\\n",
       "0         8       2.58           51     30.43       103   \n",
       "1       310       2.83           51     30.43       103   \n",
       "2      1206       2.16           51     30.43       103   \n",
       "3      1505       2.21           51     30.43       103   \n",
       "4      1809       2.25           51     30.43       103   \n",
       "\n",
       "   WindDirection(Degrees)  Speed  TimeSunRise  TimeSunSet  \n",
       "0                   77.27  11.25        22020       67080  \n",
       "1                  153.44   9.00        22020       67080  \n",
       "2                  142.04   7.87        22020       67080  \n",
       "3                  144.12  18.00        22020       67080  \n",
       "4                   67.42  11.25        22020       67080  "
      ]
     },
     "execution_count": 2,
     "metadata": {},
     "output_type": "execute_result"
    }
   ],
   "source": [
    "dataset=pd.read_csv('SolarPrediction_aligned_Sun.csv',engine='python',nrows=576*15)\n",
    "dataset=dataset.drop(\"Data\",axis=1)\n",
    "dataset=dataset.drop(\"Time\",axis=1)\n",
    "# dataset=dataset.drop(\"TimeSunRise\",axis=1)\n",
    "# dataset=dataset.drop(\"TimeSunSet\",axis=1)\n",
    "target=dataset[\"Radiation\"]\n",
    "dataset.head(5)"
   ]
  },
  {
   "cell_type": "code",
   "execution_count": 3,
   "metadata": {},
   "outputs": [
    {
     "name": "stdout",
     "output_type": "stream",
     "text": [
      "[[  2.58]\n",
      " [  2.83]\n",
      " [  2.16]\n",
      " ...\n",
      " [344.9 ]\n",
      " [365.66]\n",
      " [355.57]]\n",
      "[[0.00089369]\n",
      " [0.00104993]\n",
      " [0.00063121]\n",
      " ...\n",
      " [0.21482898]\n",
      " [0.2278031 ]\n",
      " [0.22149728]]\n"
     ]
    }
   ],
   "source": [
    "dataset=dataset.values\n",
    "\n",
    "dataset=dataset.astype('float32')\n",
    "\n",
    "scalar1=MinMaxScaler(feature_range=(0,1))\n",
    "scalar2=MinMaxScaler(feature_range=(0,1))\n",
    "scalar_dim=dataset[:,1]\n",
    "dataset=scalar1.fit_transform(dataset)\n",
    "\n",
    "scalar_dim=scalar_dim.reshape(len(dataset),1)\n",
    "print(scalar_dim)\n",
    "scalar_dim=scalar2.fit_transform(scalar_dim)\n",
    "print(scalar_dim)"
   ]
  },
  {
   "cell_type": "code",
   "execution_count": 4,
   "metadata": {},
   "outputs": [],
   "source": [
    "train_size=int(len(dataset)*0.67)\n",
    "test_size=len(dataset)- train_size\n",
    "train,test=dataset[0:train_size,:],dataset[train_size:len(dataset),:]\n",
    "\n"
   ]
  },
  {
   "cell_type": "code",
   "execution_count": 5,
   "metadata": {},
   "outputs": [],
   "source": [
    "def create_dataset(dataset,look_back):\n",
    "    dataX,dataY=[],[]\n",
    "    for i in range(len(dataset)-look_back-1):\n",
    "        #a=dataset第0行i~i+look_back個\n",
    "        #參考資料數9個\n",
    "        a=dataset[i:(i+look_back),0:9]\n",
    "        dataX.append(a)\n",
    "        dataY.append(dataset[i+look_back,1])\n",
    "    return np.array(dataX),np.array(dataY)"
   ]
  },
  {
   "cell_type": "code",
   "execution_count": 6,
   "metadata": {},
   "outputs": [],
   "source": [
    "#根據前面幾個資料來看下一步 彙整成look_back行的資料\n",
    "look_back=5\n",
    "trainX,trainY=create_dataset(train,look_back)\n",
    "testX,testY=create_dataset(test,look_back)"
   ]
  },
  {
   "cell_type": "code",
   "execution_count": 7,
   "metadata": {},
   "outputs": [],
   "source": [
    "model=Sequential()\n",
    "model.add(Dense(5,activation='relu',input_shape=(look_back,9)))\n",
    "model.add(Dense(1,activation='linear'))\n",
    "\n",
    "model.compile(loss='mean_squared_error',optimizer='sgd',metrics=['mean_squared_error'])\n"
   ]
  },
  {
   "cell_type": "markdown",
   "metadata": {},
   "source": [
    "激活函數使用linear 即可做回歸預測\n",
    "用以分類則最後一層使用分類個數+sigmoid之類的分類器"
   ]
  },
  {
   "cell_type": "code",
   "execution_count": 8,
   "metadata": {},
   "outputs": [
    {
     "name": "stdout",
     "output_type": "stream",
     "text": [
      "Epoch 1/10\n",
      "5782/5782 - 8s - loss: 0.0121 - mean_squared_error: 0.0121 - 8s/epoch - 1ms/step\n",
      "Epoch 2/10\n",
      "5782/5782 - 7s - loss: 0.0070 - mean_squared_error: 0.0070 - 7s/epoch - 1ms/step\n",
      "Epoch 3/10\n",
      "5782/5782 - 7s - loss: 0.0065 - mean_squared_error: 0.0065 - 7s/epoch - 1ms/step\n",
      "Epoch 4/10\n",
      "5782/5782 - 7s - loss: 0.0063 - mean_squared_error: 0.0063 - 7s/epoch - 1ms/step\n",
      "Epoch 5/10\n",
      "5782/5782 - 7s - loss: 0.0062 - mean_squared_error: 0.0062 - 7s/epoch - 1ms/step\n",
      "Epoch 6/10\n",
      "5782/5782 - 8s - loss: 0.0062 - mean_squared_error: 0.0062 - 8s/epoch - 1ms/step\n",
      "Epoch 7/10\n",
      "5782/5782 - 7s - loss: 0.0062 - mean_squared_error: 0.0062 - 7s/epoch - 1ms/step\n",
      "Epoch 8/10\n",
      "5782/5782 - 8s - loss: 0.0061 - mean_squared_error: 0.0061 - 8s/epoch - 1ms/step\n",
      "Epoch 9/10\n",
      "5782/5782 - 8s - loss: 0.0061 - mean_squared_error: 0.0061 - 8s/epoch - 1ms/step\n",
      "Epoch 10/10\n",
      "5782/5782 - 8s - loss: 0.0061 - mean_squared_error: 0.0061 - 8s/epoch - 1ms/step\n"
     ]
    },
    {
     "data": {
      "text/plain": [
       "<keras.src.callbacks.History at 0x168788c9a20>"
      ]
     },
     "execution_count": 8,
     "metadata": {},
     "output_type": "execute_result"
    }
   ],
   "source": [
    "# model = MLPRegressor(hidden_layer_sizes=(100, ), max_iter=1000, random_state=42)\n",
    "# model.fit(trainX, trainY)\n",
    "model.fit(trainX, trainY, epochs=10, batch_size=1, verbose=2)\n"
   ]
  },
  {
   "cell_type": "code",
   "execution_count": 9,
   "metadata": {},
   "outputs": [],
   "source": [
    "#model.compile(loss='categorical_crossentropy',optimizer='adam',metrics=['accuracy'])"
   ]
  },
  {
   "cell_type": "code",
   "execution_count": 10,
   "metadata": {},
   "outputs": [],
   "source": [
    "#model.fit(trainX, trainY, epochs=100, batch_size=128, validation_data=(testX, testY))\n"
   ]
  },
  {
   "cell_type": "code",
   "execution_count": 11,
   "metadata": {},
   "outputs": [
    {
     "name": "stdout",
     "output_type": "stream",
     "text": [
      "89/89 [==============================] - 0s 1ms/step\n",
      "181/181 [==============================] - 0s 1ms/step\n"
     ]
    }
   ],
   "source": [
    "testPre = model.predict(testX)\n",
    "trainPre=model.predict(trainX)"
   ]
  },
  {
   "cell_type": "code",
   "execution_count": 12,
   "metadata": {},
   "outputs": [
    {
     "name": "stdout",
     "output_type": "stream",
     "text": [
      "[[0.03430951]\n",
      " [0.03197417]\n",
      " [0.03073387]\n",
      " [0.03561379]\n",
      " [0.03327753]]\n",
      "0.00062495715\n",
      "[[5.8056499e-05 8.9368853e-04 3.3333325e-01 4.7367859e-01 1.0000001e+00\n",
      "  2.1446240e-01 5.5555558e-01 0.0000000e+00 1.0000000e+00]\n",
      " [3.5646691e-03 1.0499278e-03 3.3333325e-01 4.7367859e-01 1.0000001e+00\n",
      "  4.2614573e-01 4.4444445e-01 0.0000000e+00 1.0000000e+00]\n",
      " [1.3968393e-02 6.3120667e-04 3.3333325e-01 4.7367859e-01 1.0000001e+00\n",
      "  3.9446408e-01 3.8864198e-01 0.0000000e+00 1.0000000e+00]\n",
      " [1.7440172e-02 6.6245452e-04 3.3333325e-01 4.7367859e-01 1.0000001e+00\n",
      "  4.0024456e-01 8.8888890e-01 0.0000000e+00 1.0000000e+00]\n",
      " [2.0970007e-02 6.8745273e-04 3.3333325e-01 4.7367859e-01 1.0000001e+00\n",
      "  1.8708836e-01 5.5555558e-01 0.0000000e+00 1.0000000e+00]]\n"
     ]
    }
   ],
   "source": [
    "print(trainPre[0,:,:])\n",
    "print(trainY[0])\n",
    "print(trainX[0])"
   ]
  },
  {
   "cell_type": "code",
   "execution_count": 13,
   "metadata": {},
   "outputs": [
    {
     "ename": "ValueError",
     "evalue": "Found array with dim 3. None expected <= 2.",
     "output_type": "error",
     "traceback": [
      "\u001b[1;31m---------------------------------------------------------------------------\u001b[0m",
      "\u001b[1;31mValueError\u001b[0m                                Traceback (most recent call last)",
      "Cell \u001b[1;32mIn[13], line 1\u001b[0m\n\u001b[1;32m----> 1\u001b[0m trainPre\u001b[38;5;241m=\u001b[39m\u001b[43mscalar2\u001b[49m\u001b[38;5;241;43m.\u001b[39;49m\u001b[43minverse_transform\u001b[49m\u001b[43m(\u001b[49m\u001b[43mtrainPre\u001b[49m\u001b[43m)\u001b[49m\n\u001b[0;32m      2\u001b[0m trainY_ord\u001b[38;5;241m=\u001b[39mscalar2\u001b[38;5;241m.\u001b[39minverse_transform([trainY])\n\u001b[0;32m      3\u001b[0m testPre\u001b[38;5;241m=\u001b[39mscalar2\u001b[38;5;241m.\u001b[39minverse_transform(testPre)\n",
      "File \u001b[1;32m~\\anaconda3\\lib\\site-packages\\sklearn\\preprocessing\\_data.py:537\u001b[0m, in \u001b[0;36mMinMaxScaler.inverse_transform\u001b[1;34m(self, X)\u001b[0m\n\u001b[0;32m    523\u001b[0m \u001b[38;5;124;03m\"\"\"Undo the scaling of X according to feature_range.\u001b[39;00m\n\u001b[0;32m    524\u001b[0m \n\u001b[0;32m    525\u001b[0m \u001b[38;5;124;03mParameters\u001b[39;00m\n\u001b[1;32m   (...)\u001b[0m\n\u001b[0;32m    533\u001b[0m \u001b[38;5;124;03m    Transformed data.\u001b[39;00m\n\u001b[0;32m    534\u001b[0m \u001b[38;5;124;03m\"\"\"\u001b[39;00m\n\u001b[0;32m    535\u001b[0m check_is_fitted(\u001b[38;5;28mself\u001b[39m)\n\u001b[1;32m--> 537\u001b[0m X \u001b[38;5;241m=\u001b[39m \u001b[43mcheck_array\u001b[49m\u001b[43m(\u001b[49m\n\u001b[0;32m    538\u001b[0m \u001b[43m    \u001b[49m\u001b[43mX\u001b[49m\u001b[43m,\u001b[49m\u001b[43m \u001b[49m\u001b[43mcopy\u001b[49m\u001b[38;5;241;43m=\u001b[39;49m\u001b[38;5;28;43mself\u001b[39;49m\u001b[38;5;241;43m.\u001b[39;49m\u001b[43mcopy\u001b[49m\u001b[43m,\u001b[49m\u001b[43m \u001b[49m\u001b[43mdtype\u001b[49m\u001b[38;5;241;43m=\u001b[39;49m\u001b[43mFLOAT_DTYPES\u001b[49m\u001b[43m,\u001b[49m\u001b[43m \u001b[49m\u001b[43mforce_all_finite\u001b[49m\u001b[38;5;241;43m=\u001b[39;49m\u001b[38;5;124;43m\"\u001b[39;49m\u001b[38;5;124;43mallow-nan\u001b[39;49m\u001b[38;5;124;43m\"\u001b[39;49m\n\u001b[0;32m    539\u001b[0m \u001b[43m\u001b[49m\u001b[43m)\u001b[49m\n\u001b[0;32m    541\u001b[0m X \u001b[38;5;241m-\u001b[39m\u001b[38;5;241m=\u001b[39m \u001b[38;5;28mself\u001b[39m\u001b[38;5;241m.\u001b[39mmin_\n\u001b[0;32m    542\u001b[0m X \u001b[38;5;241m/\u001b[39m\u001b[38;5;241m=\u001b[39m \u001b[38;5;28mself\u001b[39m\u001b[38;5;241m.\u001b[39mscale_\n",
      "File \u001b[1;32m~\\anaconda3\\lib\\site-packages\\sklearn\\utils\\validation.py:915\u001b[0m, in \u001b[0;36mcheck_array\u001b[1;34m(array, accept_sparse, accept_large_sparse, dtype, order, copy, force_all_finite, ensure_2d, allow_nd, ensure_min_samples, ensure_min_features, estimator, input_name)\u001b[0m\n\u001b[0;32m    910\u001b[0m     \u001b[38;5;28;01mraise\u001b[39;00m \u001b[38;5;167;01mValueError\u001b[39;00m(\n\u001b[0;32m    911\u001b[0m         \u001b[38;5;124m\"\u001b[39m\u001b[38;5;124mdtype=\u001b[39m\u001b[38;5;124m'\u001b[39m\u001b[38;5;124mnumeric\u001b[39m\u001b[38;5;124m'\u001b[39m\u001b[38;5;124m is not compatible with arrays of bytes/strings.\u001b[39m\u001b[38;5;124m\"\u001b[39m\n\u001b[0;32m    912\u001b[0m         \u001b[38;5;124m\"\u001b[39m\u001b[38;5;124mConvert your data to numeric values explicitly instead.\u001b[39m\u001b[38;5;124m\"\u001b[39m\n\u001b[0;32m    913\u001b[0m     )\n\u001b[0;32m    914\u001b[0m \u001b[38;5;28;01mif\u001b[39;00m \u001b[38;5;129;01mnot\u001b[39;00m allow_nd \u001b[38;5;129;01mand\u001b[39;00m array\u001b[38;5;241m.\u001b[39mndim \u001b[38;5;241m>\u001b[39m\u001b[38;5;241m=\u001b[39m \u001b[38;5;241m3\u001b[39m:\n\u001b[1;32m--> 915\u001b[0m     \u001b[38;5;28;01mraise\u001b[39;00m \u001b[38;5;167;01mValueError\u001b[39;00m(\n\u001b[0;32m    916\u001b[0m         \u001b[38;5;124m\"\u001b[39m\u001b[38;5;124mFound array with dim \u001b[39m\u001b[38;5;132;01m%d\u001b[39;00m\u001b[38;5;124m. \u001b[39m\u001b[38;5;132;01m%s\u001b[39;00m\u001b[38;5;124m expected <= 2.\u001b[39m\u001b[38;5;124m\"\u001b[39m\n\u001b[0;32m    917\u001b[0m         \u001b[38;5;241m%\u001b[39m (array\u001b[38;5;241m.\u001b[39mndim, estimator_name)\n\u001b[0;32m    918\u001b[0m     )\n\u001b[0;32m    920\u001b[0m \u001b[38;5;28;01mif\u001b[39;00m force_all_finite:\n\u001b[0;32m    921\u001b[0m     _assert_all_finite(\n\u001b[0;32m    922\u001b[0m         array,\n\u001b[0;32m    923\u001b[0m         input_name\u001b[38;5;241m=\u001b[39minput_name,\n\u001b[0;32m    924\u001b[0m         estimator_name\u001b[38;5;241m=\u001b[39mestimator_name,\n\u001b[0;32m    925\u001b[0m         allow_nan\u001b[38;5;241m=\u001b[39mforce_all_finite \u001b[38;5;241m==\u001b[39m \u001b[38;5;124m\"\u001b[39m\u001b[38;5;124mallow-nan\u001b[39m\u001b[38;5;124m\"\u001b[39m,\n\u001b[0;32m    926\u001b[0m     )\n",
      "\u001b[1;31mValueError\u001b[0m: Found array with dim 3. None expected <= 2."
     ]
    }
   ],
   "source": [
    "trainPre=scalar2.inverse_transform(trainPre)\n",
    "trainY_ord=scalar2.inverse_transform([trainY])\n",
    "testPre=scalar2.inverse_transform(testPre)\n",
    "testY_ord=scalar2.inverse_transform([testY])"
   ]
  },
  {
   "cell_type": "code",
   "execution_count": null,
   "metadata": {},
   "outputs": [
    {
     "name": "stdout",
     "output_type": "stream",
     "text": [
      "[[[0.00380274]\n",
      "  [0.00380274]\n",
      "  [0.00380274]\n",
      "  [0.00380274]\n",
      "  [0.00380274]]\n",
      "\n",
      " [[0.00380274]\n",
      "  [0.00380274]\n",
      "  [0.00380274]\n",
      "  [0.00380274]\n",
      "  [0.00380274]]\n",
      "\n",
      " [[0.00380274]\n",
      "  [0.00380274]\n",
      "  [0.00380274]\n",
      "  [0.00380274]\n",
      "  [0.00380274]]\n",
      "\n",
      " ...\n",
      "\n",
      " [[0.0645123 ]\n",
      "  [0.08761235]\n",
      "  [0.13217151]\n",
      "  [0.13099615]\n",
      "  [0.09615608]]\n",
      "\n",
      " [[0.08761235]\n",
      "  [0.13217151]\n",
      "  [0.13099615]\n",
      "  [0.09615608]\n",
      "  [0.1201393 ]]\n",
      "\n",
      " [[0.13217151]\n",
      "  [0.13099615]\n",
      "  [0.09615608]\n",
      "  [0.1201393 ]\n",
      "  [0.19303675]]]\n",
      "[4.3747015e-05 5.6246121e-05 5.6246121e-05 ... 1.3781552e-01 2.1482898e-01\n",
      " 2.2780310e-01]\n"
     ]
    }
   ],
   "source": [
    "#print(X_test)\n",
    "print(testPre)\n",
    "print(testY)"
   ]
  },
  {
   "cell_type": "code",
   "execution_count": null,
   "metadata": {},
   "outputs": [],
   "source": [
    "trainScore=math.sqrt(mean_squared_error(trainY,trainPre))\n",
    "print('Train Score:%.2f RMSE'%(trainScore))\n",
    "testScore=math.sqrt(mean_squared_error(testY,testPre))\n",
    "print('Test Score:%.2f RMSE'%(testScore))\n",
    "MAE=mean_absolute_error(testY,testPre)\n",
    "print('Test Score:%.2f MAE'%(MAE))"
   ]
  },
  {
   "cell_type": "code",
   "execution_count": null,
   "metadata": {},
   "outputs": [],
   "source": [
    "plt.plot(testY,label='Ground Truth')\n",
    "plt.plot(testPre,label='Prediction')\n",
    "#plt.plot(testPredictPlot[0:200],label='Prediction(testing)')\n",
    "plt.legend()\n",
    "plt.show()"
   ]
  }
 ],
 "metadata": {
  "kernelspec": {
   "display_name": "base",
   "language": "python",
   "name": "python3"
  },
  "language_info": {
   "codemirror_mode": {
    "name": "ipython",
    "version": 3
   },
   "file_extension": ".py",
   "mimetype": "text/x-python",
   "name": "python",
   "nbconvert_exporter": "python",
   "pygments_lexer": "ipython3",
   "version": "3.10.9"
  }
 },
 "nbformat": 4,
 "nbformat_minor": 2
}
