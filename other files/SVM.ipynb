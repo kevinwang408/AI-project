{
 "cells": [
  {
   "cell_type": "code",
   "execution_count": 1,
   "metadata": {},
   "outputs": [
    {
     "data": {
      "text/html": [
       "<div>\n",
       "<style scoped>\n",
       "    .dataframe tbody tr th:only-of-type {\n",
       "        vertical-align: middle;\n",
       "    }\n",
       "\n",
       "    .dataframe tbody tr th {\n",
       "        vertical-align: top;\n",
       "    }\n",
       "\n",
       "    .dataframe thead th {\n",
       "        text-align: right;\n",
       "    }\n",
       "</style>\n",
       "<table border=\"1\" class=\"dataframe\">\n",
       "  <thead>\n",
       "    <tr style=\"text-align: right;\">\n",
       "      <th></th>\n",
       "      <th>UNIXTime</th>\n",
       "      <th>Radiation</th>\n",
       "      <th>Temperature</th>\n",
       "      <th>Pressure</th>\n",
       "      <th>Humidity</th>\n",
       "      <th>WindDirection(Degrees)</th>\n",
       "      <th>Speed</th>\n",
       "    </tr>\n",
       "  </thead>\n",
       "  <tbody>\n",
       "    <tr>\n",
       "      <th>count</th>\n",
       "      <td>576.000000</td>\n",
       "      <td>576.000000</td>\n",
       "      <td>576.000000</td>\n",
       "      <td>576.000000</td>\n",
       "      <td>576.000000</td>\n",
       "      <td>576.000000</td>\n",
       "      <td>576.000000</td>\n",
       "    </tr>\n",
       "    <tr>\n",
       "      <th>mean</th>\n",
       "      <td>40961.618056</td>\n",
       "      <td>291.279601</td>\n",
       "      <td>55.246528</td>\n",
       "      <td>30.439931</td>\n",
       "      <td>77.204861</td>\n",
       "      <td>119.847483</td>\n",
       "      <td>5.993681</td>\n",
       "    </tr>\n",
       "    <tr>\n",
       "      <th>std</th>\n",
       "      <td>26041.675520</td>\n",
       "      <td>400.402992</td>\n",
       "      <td>5.226187</td>\n",
       "      <td>0.020173</td>\n",
       "      <td>19.122662</td>\n",
       "      <td>68.875549</td>\n",
       "      <td>3.144207</td>\n",
       "    </tr>\n",
       "    <tr>\n",
       "      <th>min</th>\n",
       "      <td>4.000000</td>\n",
       "      <td>1.580000</td>\n",
       "      <td>46.000000</td>\n",
       "      <td>30.400000</td>\n",
       "      <td>28.000000</td>\n",
       "      <td>0.590000</td>\n",
       "      <td>0.000000</td>\n",
       "    </tr>\n",
       "    <tr>\n",
       "      <th>25%</th>\n",
       "      <td>16131.750000</td>\n",
       "      <td>2.440000</td>\n",
       "      <td>51.000000</td>\n",
       "      <td>30.420000</td>\n",
       "      <td>65.000000</td>\n",
       "      <td>68.150000</td>\n",
       "      <td>3.370000</td>\n",
       "    </tr>\n",
       "    <tr>\n",
       "      <th>50%</th>\n",
       "      <td>40205.500000</td>\n",
       "      <td>3.500000</td>\n",
       "      <td>53.000000</td>\n",
       "      <td>30.440000</td>\n",
       "      <td>75.000000</td>\n",
       "      <td>123.895000</td>\n",
       "      <td>5.620000</td>\n",
       "    </tr>\n",
       "    <tr>\n",
       "      <th>75%</th>\n",
       "      <td>63979.250000</td>\n",
       "      <td>641.457500</td>\n",
       "      <td>61.000000</td>\n",
       "      <td>30.460000</td>\n",
       "      <td>97.000000</td>\n",
       "      <td>158.847500</td>\n",
       "      <td>7.870000</td>\n",
       "    </tr>\n",
       "    <tr>\n",
       "      <th>max</th>\n",
       "      <td>86107.000000</td>\n",
       "      <td>1073.710000</td>\n",
       "      <td>65.000000</td>\n",
       "      <td>30.470000</td>\n",
       "      <td>103.000000</td>\n",
       "      <td>358.480000</td>\n",
       "      <td>18.000000</td>\n",
       "    </tr>\n",
       "  </tbody>\n",
       "</table>\n",
       "</div>"
      ],
      "text/plain": [
       "           UNIXTime    Radiation  Temperature    Pressure    Humidity  \\\n",
       "count    576.000000   576.000000   576.000000  576.000000  576.000000   \n",
       "mean   40961.618056   291.279601    55.246528   30.439931   77.204861   \n",
       "std    26041.675520   400.402992     5.226187    0.020173   19.122662   \n",
       "min        4.000000     1.580000    46.000000   30.400000   28.000000   \n",
       "25%    16131.750000     2.440000    51.000000   30.420000   65.000000   \n",
       "50%    40205.500000     3.500000    53.000000   30.440000   75.000000   \n",
       "75%    63979.250000   641.457500    61.000000   30.460000   97.000000   \n",
       "max    86107.000000  1073.710000    65.000000   30.470000  103.000000   \n",
       "\n",
       "       WindDirection(Degrees)       Speed  \n",
       "count              576.000000  576.000000  \n",
       "mean               119.847483    5.993681  \n",
       "std                 68.875549    3.144207  \n",
       "min                  0.590000    0.000000  \n",
       "25%                 68.150000    3.370000  \n",
       "50%                123.895000    5.620000  \n",
       "75%                158.847500    7.870000  \n",
       "max                358.480000   18.000000  "
      ]
     },
     "execution_count": 1,
     "metadata": {},
     "output_type": "execute_result"
    }
   ],
   "source": [
    "from sklearn import svm\n",
    "import pandas as pd\n",
    "import numpy as np\n",
    "import matplotlib.pyplot as plt\n",
    "from sklearn import datasets\n",
    "from sklearn.model_selection import train_test_split\n",
    "from sklearn.metrics import mean_squared_error\n",
    "\n",
    "\n",
    "dataset=pd.read_csv('SolarPrediction_time_aligned.csv',engine='python',nrows=576)\n",
    "dataset.describe()"
   ]
  },
  {
   "cell_type": "code",
   "execution_count": 2,
   "metadata": {},
   "outputs": [
    {
     "name": "stdout",
     "output_type": "stream",
     "text": [
      "   UNIXTime  Temperature  Pressure  Humidity  WindDirection(Degrees)  Speed\n",
      "0         8           51     30.43       103                   77.27  11.25\n",
      "1       310           51     30.43       103                  153.44   9.00\n",
      "2      1206           51     30.43       103                  142.04   7.87\n",
      "3      1505           51     30.43       103                  144.12  18.00\n",
      "4      1809           51     30.43       103                   67.42  11.25\n",
      "0    2.58\n",
      "1    2.83\n",
      "2    2.16\n",
      "3    2.21\n",
      "4    2.25\n",
      "Name: Radiation, dtype: float64\n"
     ]
    }
   ],
   "source": [
    "factor=dataset.drop(\"Radiation\",axis=1)\n",
    "factor=factor.drop(\"Data\",axis=1)\n",
    "factor=factor.drop(\"Time\",axis=1)\n",
    "factor=factor.drop(\"TimeSunRise\",axis=1)\n",
    "factor=factor.drop(\"TimeSunSet\",axis=1)\n",
    "pre_data=dataset[\"Radiation\"]\n",
    "print(factor.head(5))\n",
    "print(pre_data.head(5))"
   ]
  },
  {
   "cell_type": "code",
   "execution_count": 3,
   "metadata": {},
   "outputs": [],
   "source": [
    "factor=factor.values\n",
    "pre_data=pre_data.values"
   ]
  },
  {
   "cell_type": "code",
   "execution_count": 4,
   "metadata": {},
   "outputs": [],
   "source": [
    "factor=factor.astype(int)\n",
    "pre_data=pre_data.astype(int)"
   ]
  },
  {
   "cell_type": "code",
   "execution_count": 5,
   "metadata": {},
   "outputs": [
    {
     "name": "stdout",
     "output_type": "stream",
     "text": [
      "[[58807    62    30    76    50     3]\n",
      " [20705    48    30    86   120     9]\n",
      " [73806    53    30    67   126     4]\n",
      " [19504    49    30   102   164     9]\n",
      " [ 5704    52    30   103   134    10]]\n",
      "[[81603    51    30    98   170     4]\n",
      " [42009    59    30    71    31    11]\n",
      " [30608    62    30    30   300     3]\n",
      " [77103    54    30   101   129     4]\n",
      " [47706    64    30    65   349     7]]\n"
     ]
    }
   ],
   "source": [
    "from sklearn.model_selection import train_test_split\n",
    "#將iris其中一行去除 species 是標籤 將此標籤的所在行去除 0列1行\n",
    "#將資料大部分分為train 一部分分為test test_size的比率轉成測值\n",
    "x_train,x_test,y_train,y_test=train_test_split(factor,pre_data,test_size=0.2,random_state=42)\n",
    "\n",
    "print(x_train[0:5])\n",
    "print(x_test[0:5])\n",
    "#print(y[0:5])\n",
    "\n",
    "#print(y_train.shape)\n",
    "#print(y_test.shape)\n",
    "#print(y)"
   ]
  },
  {
   "cell_type": "code",
   "execution_count": 6,
   "metadata": {},
   "outputs": [
    {
     "data": {
      "text/html": [
       "<style>#sk-container-id-1 {color: black;background-color: white;}#sk-container-id-1 pre{padding: 0;}#sk-container-id-1 div.sk-toggleable {background-color: white;}#sk-container-id-1 label.sk-toggleable__label {cursor: pointer;display: block;width: 100%;margin-bottom: 0;padding: 0.3em;box-sizing: border-box;text-align: center;}#sk-container-id-1 label.sk-toggleable__label-arrow:before {content: \"▸\";float: left;margin-right: 0.25em;color: #696969;}#sk-container-id-1 label.sk-toggleable__label-arrow:hover:before {color: black;}#sk-container-id-1 div.sk-estimator:hover label.sk-toggleable__label-arrow:before {color: black;}#sk-container-id-1 div.sk-toggleable__content {max-height: 0;max-width: 0;overflow: hidden;text-align: left;background-color: #f0f8ff;}#sk-container-id-1 div.sk-toggleable__content pre {margin: 0.2em;color: black;border-radius: 0.25em;background-color: #f0f8ff;}#sk-container-id-1 input.sk-toggleable__control:checked~div.sk-toggleable__content {max-height: 200px;max-width: 100%;overflow: auto;}#sk-container-id-1 input.sk-toggleable__control:checked~label.sk-toggleable__label-arrow:before {content: \"▾\";}#sk-container-id-1 div.sk-estimator input.sk-toggleable__control:checked~label.sk-toggleable__label {background-color: #d4ebff;}#sk-container-id-1 div.sk-label input.sk-toggleable__control:checked~label.sk-toggleable__label {background-color: #d4ebff;}#sk-container-id-1 input.sk-hidden--visually {border: 0;clip: rect(1px 1px 1px 1px);clip: rect(1px, 1px, 1px, 1px);height: 1px;margin: -1px;overflow: hidden;padding: 0;position: absolute;width: 1px;}#sk-container-id-1 div.sk-estimator {font-family: monospace;background-color: #f0f8ff;border: 1px dotted black;border-radius: 0.25em;box-sizing: border-box;margin-bottom: 0.5em;}#sk-container-id-1 div.sk-estimator:hover {background-color: #d4ebff;}#sk-container-id-1 div.sk-parallel-item::after {content: \"\";width: 100%;border-bottom: 1px solid gray;flex-grow: 1;}#sk-container-id-1 div.sk-label:hover label.sk-toggleable__label {background-color: #d4ebff;}#sk-container-id-1 div.sk-serial::before {content: \"\";position: absolute;border-left: 1px solid gray;box-sizing: border-box;top: 0;bottom: 0;left: 50%;z-index: 0;}#sk-container-id-1 div.sk-serial {display: flex;flex-direction: column;align-items: center;background-color: white;padding-right: 0.2em;padding-left: 0.2em;position: relative;}#sk-container-id-1 div.sk-item {position: relative;z-index: 1;}#sk-container-id-1 div.sk-parallel {display: flex;align-items: stretch;justify-content: center;background-color: white;position: relative;}#sk-container-id-1 div.sk-item::before, #sk-container-id-1 div.sk-parallel-item::before {content: \"\";position: absolute;border-left: 1px solid gray;box-sizing: border-box;top: 0;bottom: 0;left: 50%;z-index: -1;}#sk-container-id-1 div.sk-parallel-item {display: flex;flex-direction: column;z-index: 1;position: relative;background-color: white;}#sk-container-id-1 div.sk-parallel-item:first-child::after {align-self: flex-end;width: 50%;}#sk-container-id-1 div.sk-parallel-item:last-child::after {align-self: flex-start;width: 50%;}#sk-container-id-1 div.sk-parallel-item:only-child::after {width: 0;}#sk-container-id-1 div.sk-dashed-wrapped {border: 1px dashed gray;margin: 0 0.4em 0.5em 0.4em;box-sizing: border-box;padding-bottom: 0.4em;background-color: white;}#sk-container-id-1 div.sk-label label {font-family: monospace;font-weight: bold;display: inline-block;line-height: 1.2em;}#sk-container-id-1 div.sk-label-container {text-align: center;}#sk-container-id-1 div.sk-container {/* jupyter's `normalize.less` sets `[hidden] { display: none; }` but bootstrap.min.css set `[hidden] { display: none !important; }` so we also need the `!important` here to be able to override the default hidden behavior on the sphinx rendered scikit-learn.org. See: https://github.com/scikit-learn/scikit-learn/issues/21755 */display: inline-block !important;position: relative;}#sk-container-id-1 div.sk-text-repr-fallback {display: none;}</style><div id=\"sk-container-id-1\" class=\"sk-top-container\"><div class=\"sk-text-repr-fallback\"><pre>SVC(C=1, gamma=&#x27;auto&#x27;)</pre><b>In a Jupyter environment, please rerun this cell to show the HTML representation or trust the notebook. <br />On GitHub, the HTML representation is unable to render, please try loading this page with nbviewer.org.</b></div><div class=\"sk-container\" hidden><div class=\"sk-item\"><div class=\"sk-estimator sk-toggleable\"><input class=\"sk-toggleable__control sk-hidden--visually\" id=\"sk-estimator-id-1\" type=\"checkbox\" checked><label for=\"sk-estimator-id-1\" class=\"sk-toggleable__label sk-toggleable__label-arrow\">SVC</label><div class=\"sk-toggleable__content\"><pre>SVC(C=1, gamma=&#x27;auto&#x27;)</pre></div></div></div></div></div>"
      ],
      "text/plain": [
       "SVC(C=1, gamma='auto')"
      ]
     },
     "execution_count": 6,
     "metadata": {},
     "output_type": "execute_result"
    }
   ],
   "source": [
    "clf=svm.SVC(kernel='rbf',C=1,gamma='auto')\n",
    "clf.fit(x_train,y_train)"
   ]
  },
  {
   "cell_type": "code",
   "execution_count": 7,
   "metadata": {},
   "outputs": [],
   "source": [
    "y_pre=clf.predict(x_test)\n"
   ]
  },
  {
   "cell_type": "code",
   "execution_count": 11,
   "metadata": {},
   "outputs": [
    {
     "name": "stdout",
     "output_type": "stream",
     "text": [
      "[2 2 2 2 2 2 2 2 2 2 2 2 2 2 2 2 2 2 2 2 2 2 2 2 2 2 2 2 2 2 2 2 2 2 2 2 2\n",
      " 2 2 2 2 2 2 2 2 2 2 2 2 2 2 2 2 2 2 2 2 2 2 2 2 2 2 2 2 2 2 2 2 2 2 2 2 2\n",
      " 2 2 2 2 2 2 2 2 2 2 2 2 2 2 2 2 2 2 2 2 2 2 2 2 2 2 2 2 2 2 2 2 2 2 2 2 2\n",
      " 2 2 2 2 2]\n",
      "[   2 1000  563    2 1029 1043    3    2  146 1026    2  326    2  757\n",
      "    1  409    2    1    2  773    3  234 1018    2    3  117    3  262\n",
      "    2   53    2    2  554    3    2  242    2   87    2    2    3  564\n",
      " 1042  402  497 1012    2    2   18    3    2    7  931    2    2    1\n",
      "  916 1031   28  183    2   92  857    2   43  633  856  884  331    3\n",
      "    1  269    2   63   46    2    2    2    3  555 1039  999   11    3\n",
      "  595    2    3    2  151    2    2  406    2    4 1031 1006    2  899\n",
      "  989    3  739  463    2   62  939    2    3    3    3    3    2   51\n",
      "  742    2    3   11]\n"
     ]
    }
   ],
   "source": [
    "print(y_pre)\n",
    "print(y_test)"
   ]
  },
  {
   "cell_type": "code",
   "execution_count": 10,
   "metadata": {},
   "outputs": [
    {
     "name": "stdout",
     "output_type": "stream",
     "text": [
      "214507.47413793104\n"
     ]
    }
   ],
   "source": [
    "accuracy_dt=mean_squared_error(y_test,y_pre)\n",
    "print(accuracy_dt)"
   ]
  }
 ],
 "metadata": {
  "kernelspec": {
   "display_name": "base",
   "language": "python",
   "name": "python3"
  },
  "language_info": {
   "codemirror_mode": {
    "name": "ipython",
    "version": 3
   },
   "file_extension": ".py",
   "mimetype": "text/x-python",
   "name": "python",
   "nbconvert_exporter": "python",
   "pygments_lexer": "ipython3",
   "version": "3.10.9"
  }
 },
 "nbformat": 4,
 "nbformat_minor": 2
}
