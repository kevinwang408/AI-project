{
 "cells": [
  {
   "cell_type": "code",
   "execution_count": 10,
   "metadata": {},
   "outputs": [],
   "source": [
    "from tcn import TCN, tcn_full_summary\n",
    "from tensorflow.keras.layers import Dense\n",
    "from tensorflow.keras.models import Sequential\n",
    "\n",
    "# if time_steps > tcn_layer.receptive_field, then we should not\n",
    "# be able to solve this task.\n",
    "batch_size, time_steps, input_dim = 1, 20, 1\n",
    "\n",
    "\n"
   ]
  },
  {
   "cell_type": "code",
   "execution_count": 11,
   "metadata": {},
   "outputs": [],
   "source": [
    "def get_x_y(size=1000):\n",
    "    import numpy as np\n",
    "    pos_indices = np.random.choice(size, size=int(size // 2), replace=False)\n",
    "    x_train = np.zeros(shape=(size, time_steps, 1))\n",
    "    y_train = np.zeros(shape=(size, 1))\n",
    "    x_train[pos_indices, 0] = 1.0  # we introduce the target in the first timestep of the sequence.\n",
    "    y_train[pos_indices, 0] = 1.0  # the task is to see if the TCN can go back in time to find it.\n",
    "    return x_train, y_train\n",
    "\n",
    "\n"
   ]
  },
  {
   "cell_type": "code",
   "execution_count": 12,
   "metadata": {},
   "outputs": [
    {
     "name": "stdout",
     "output_type": "stream",
     "text": [
      "Receptive field size = 253\n",
      "WARNING: tcn_full_summary: Compatible with tensorflow 2.5.0 or below.\n",
      "Use tensorboard instead. Example in keras-tcn/tasks/tcn_tensorboard.py.\n"
     ]
    }
   ],
   "source": [
    "tcn_layer = TCN(input_shape=(time_steps, input_dim))\n",
    "# The receptive field tells you how far the model can see in terms of timesteps.\n",
    "print('Receptive field size =', tcn_layer.receptive_field)\n",
    "\n",
    "m = Sequential([\n",
    "    tcn_layer,\n",
    "    Dense(1)\n",
    "])\n",
    "\n",
    "m.compile(optimizer='adam', loss='mse')\n",
    "\n",
    "tcn_full_summary(m, expand_residual_blocks=False)\n",
    "\n",
    "x,y=get_x_y()\n",
    "\n"
   ]
  },
  {
   "cell_type": "code",
   "execution_count": 13,
   "metadata": {},
   "outputs": [
    {
     "name": "stdout",
     "output_type": "stream",
     "text": [
      "(1000, 20, 1)\n"
     ]
    }
   ],
   "source": [
    "print(x.shape)\n"
   ]
  },
  {
   "cell_type": "code",
   "execution_count": 14,
   "metadata": {},
   "outputs": [
    {
     "name": "stdout",
     "output_type": "stream",
     "text": [
      "Epoch 1/10\n",
      "25/25 [==============================] - 4s 42ms/step - loss: 0.0600 - val_loss: 0.0025\n",
      "Epoch 2/10\n",
      "25/25 [==============================] - 1s 27ms/step - loss: 8.9771e-04 - val_loss: 7.0673e-06\n",
      "Epoch 3/10\n",
      "25/25 [==============================] - 1s 28ms/step - loss: 7.1397e-05 - val_loss: 3.1779e-07\n",
      "Epoch 4/10\n",
      "25/25 [==============================] - 1s 30ms/step - loss: 8.1000e-06 - val_loss: 1.0187e-06\n",
      "Epoch 5/10\n",
      "25/25 [==============================] - 1s 28ms/step - loss: 5.1233e-07 - val_loss: 1.3705e-08\n",
      "Epoch 6/10\n",
      "25/25 [==============================] - 1s 25ms/step - loss: 3.9436e-09 - val_loss: 1.0698e-10\n",
      "Epoch 7/10\n",
      "25/25 [==============================] - 1s 24ms/step - loss: 1.0631e-10 - val_loss: 3.7472e-11\n",
      "Epoch 8/10\n",
      "25/25 [==============================] - 1s 26ms/step - loss: 6.8838e-12 - val_loss: 1.0777e-12\n",
      "Epoch 9/10\n",
      "25/25 [==============================] - 1s 27ms/step - loss: 3.3413e-13 - val_loss: 1.2336e-13\n",
      "Epoch 10/10\n",
      "25/25 [==============================] - 1s 30ms/step - loss: 4.2857e-14 - val_loss: 7.3938e-15\n"
     ]
    },
    {
     "data": {
      "text/plain": [
       "<keras.src.callbacks.History at 0x2acd61c22c0>"
      ]
     },
     "execution_count": 14,
     "metadata": {},
     "output_type": "execute_result"
    }
   ],
   "source": [
    "m.fit(x, y, epochs=10, validation_split=0.2)"
   ]
  }
 ],
 "metadata": {
  "kernelspec": {
   "display_name": "base",
   "language": "python",
   "name": "python3"
  },
  "language_info": {
   "codemirror_mode": {
    "name": "ipython",
    "version": 3
   },
   "file_extension": ".py",
   "mimetype": "text/x-python",
   "name": "python",
   "nbconvert_exporter": "python",
   "pygments_lexer": "ipython3",
   "version": "3.10.9"
  }
 },
 "nbformat": 4,
 "nbformat_minor": 2
}
