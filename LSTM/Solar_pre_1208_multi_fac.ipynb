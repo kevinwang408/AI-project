{
 "cells": [
  {
   "cell_type": "code",
   "execution_count": null,
   "metadata": {},
   "outputs": [
    {
     "data": {
      "text/html": [
       "<div>\n",
       "<style scoped>\n",
       "    .dataframe tbody tr th:only-of-type {\n",
       "        vertical-align: middle;\n",
       "    }\n",
       "\n",
       "    .dataframe tbody tr th {\n",
       "        vertical-align: top;\n",
       "    }\n",
       "\n",
       "    .dataframe thead th {\n",
       "        text-align: right;\n",
       "    }\n",
       "</style>\n",
       "<table border=\"1\" class=\"dataframe\">\n",
       "  <thead>\n",
       "    <tr style=\"text-align: right;\">\n",
       "      <th></th>\n",
       "      <th>UNIXTime</th>\n",
       "      <th>Radiation</th>\n",
       "      <th>Temperature</th>\n",
       "      <th>Pressure</th>\n",
       "      <th>Humidity</th>\n",
       "      <th>WindDirection(Degrees)</th>\n",
       "      <th>Speed</th>\n",
       "      <th>TimeSunRise</th>\n",
       "      <th>TimeSunSet</th>\n",
       "    </tr>\n",
       "  </thead>\n",
       "  <tbody>\n",
       "    <tr>\n",
       "      <th>0</th>\n",
       "      <td>8</td>\n",
       "      <td>2.58</td>\n",
       "      <td>51</td>\n",
       "      <td>30.43</td>\n",
       "      <td>103</td>\n",
       "      <td>77.27</td>\n",
       "      <td>11.25</td>\n",
       "      <td>22020</td>\n",
       "      <td>67080</td>\n",
       "    </tr>\n",
       "    <tr>\n",
       "      <th>1</th>\n",
       "      <td>310</td>\n",
       "      <td>2.83</td>\n",
       "      <td>51</td>\n",
       "      <td>30.43</td>\n",
       "      <td>103</td>\n",
       "      <td>153.44</td>\n",
       "      <td>9.00</td>\n",
       "      <td>22020</td>\n",
       "      <td>67080</td>\n",
       "    </tr>\n",
       "    <tr>\n",
       "      <th>2</th>\n",
       "      <td>1206</td>\n",
       "      <td>2.16</td>\n",
       "      <td>51</td>\n",
       "      <td>30.43</td>\n",
       "      <td>103</td>\n",
       "      <td>142.04</td>\n",
       "      <td>7.87</td>\n",
       "      <td>22020</td>\n",
       "      <td>67080</td>\n",
       "    </tr>\n",
       "    <tr>\n",
       "      <th>3</th>\n",
       "      <td>1505</td>\n",
       "      <td>2.21</td>\n",
       "      <td>51</td>\n",
       "      <td>30.43</td>\n",
       "      <td>103</td>\n",
       "      <td>144.12</td>\n",
       "      <td>18.00</td>\n",
       "      <td>22020</td>\n",
       "      <td>67080</td>\n",
       "    </tr>\n",
       "    <tr>\n",
       "      <th>4</th>\n",
       "      <td>1809</td>\n",
       "      <td>2.25</td>\n",
       "      <td>51</td>\n",
       "      <td>30.43</td>\n",
       "      <td>103</td>\n",
       "      <td>67.42</td>\n",
       "      <td>11.25</td>\n",
       "      <td>22020</td>\n",
       "      <td>67080</td>\n",
       "    </tr>\n",
       "  </tbody>\n",
       "</table>\n",
       "</div>"
      ],
      "text/plain": [
       "   UNIXTime  Radiation  Temperature  Pressure  Humidity  \\\n",
       "0         8       2.58           51     30.43       103   \n",
       "1       310       2.83           51     30.43       103   \n",
       "2      1206       2.16           51     30.43       103   \n",
       "3      1505       2.21           51     30.43       103   \n",
       "4      1809       2.25           51     30.43       103   \n",
       "\n",
       "   WindDirection(Degrees)  Speed  TimeSunRise  TimeSunSet  \n",
       "0                   77.27  11.25        22020       67080  \n",
       "1                  153.44   9.00        22020       67080  \n",
       "2                  142.04   7.87        22020       67080  \n",
       "3                  144.12  18.00        22020       67080  \n",
       "4                   67.42  11.25        22020       67080  "
      ]
     },
     "execution_count": 1,
     "metadata": {},
     "output_type": "execute_result"
    }
   ],
   "source": [
    "import pandas as pd\n",
    "import matplotlib.pyplot as plt\n",
    "import numpy as np\n",
    "from pandas import read_csv\n",
    "import math\n",
    "from tensorflow.keras.models import Sequential\n",
    "from tensorflow.keras.layers import Dense\n",
    "from tensorflow.keras.layers import LSTM\n",
    "from sklearn.preprocessing import MinMaxScaler\n",
    "from sklearn.metrics import mean_squared_error\n",
    "\n",
    "dataset=pd.read_csv('SolarRadiationPrediction.csv',engine='python')\n",
    "dataset=dataset.drop(\"Data\",axis=1)\n",
    "dataset=dataset.drop(\"Time\",axis=1)\n",
    "# dataset=dataset.drop(\"TimeSunRise\",axis=1)\n",
    "# dataset=dataset.drop(\"TimeSunSet\",axis=1)\n",
    "dataset.head(5)\n"
   ]
  },
  {
   "cell_type": "code",
   "execution_count": 2,
   "metadata": {},
   "outputs": [],
   "source": [
    "dataset=dataset.values"
   ]
  },
  {
   "cell_type": "markdown",
   "metadata": {},
   "source": [
    "取出來的數字不知道為甚麼做%會一直變 ==\n",
    "把值用一變數取出改為int再寫入\n",
    "重複執行會重複扣=="
   ]
  },
  {
   "cell_type": "code",
   "execution_count": 20,
   "metadata": {},
   "outputs": [],
   "source": [
    "\n",
    "# take=np.zeros(len(dataset))\n",
    "# take=dataset[:,0]\n"
   ]
  },
  {
   "cell_type": "code",
   "execution_count": 21,
   "metadata": {},
   "outputs": [],
   "source": [
    "# take[:]=take[:]-1472724000\n",
    "# take"
   ]
  },
  {
   "cell_type": "code",
   "execution_count": 22,
   "metadata": {},
   "outputs": [],
   "source": [
    "# for i in range(0,len(dataset)):\n",
    "#     take[i]=take[i]%(60*60*24)\n",
    "\n",
    "# print(dataset[0,0])"
   ]
  },
  {
   "cell_type": "markdown",
   "metadata": {},
   "source": [
    "把take寫回去"
   ]
  },
  {
   "cell_type": "code",
   "execution_count": 23,
   "metadata": {},
   "outputs": [],
   "source": [
    "# dataset[:,0]=take\n",
    "# print(dataset)"
   ]
  },
  {
   "cell_type": "markdown",
   "metadata": {},
   "source": [
    "之前用作存時間整理的"
   ]
  },
  {
   "cell_type": "code",
   "execution_count": 24,
   "metadata": {},
   "outputs": [],
   "source": [
    "# store=pd.DataFrame(dataset,columns=[\"UNIXTime\",\"Data\",\"Time\",\"Radiation\",\"Temperature\",\"Pressure\",\"Humidity\",\"WindDirection(Degrees)\",\"Speed\",\"TimeSunRise\",\"TimeSunSet\"])\n",
    "# store.to_csv(\"SolarPrediction_time_aligned.csv\",index=False)"
   ]
  },
  {
   "cell_type": "markdown",
   "metadata": {},
   "source": [
    "在這邊scalar會被設定為對七筆資料做scalar\n",
    "導致最後輸出結果無法scalar回去\n",
    "到後面分資料實在scalar\n",
    "存有對輸出scalar的資料"
   ]
  },
  {
   "cell_type": "code",
   "execution_count": 25,
   "metadata": {},
   "outputs": [
    {
     "data": {
      "text/plain": [
       "array([2.58, 2.83, 2.16, ..., 1.21, 1.19, 1.21])"
      ]
     },
     "execution_count": 25,
     "metadata": {},
     "output_type": "execute_result"
    }
   ],
   "source": [
    "dataset[:,1]"
   ]
  },
  {
   "cell_type": "code",
   "execution_count": 3,
   "metadata": {},
   "outputs": [
    {
     "name": "stdout",
     "output_type": "stream",
     "text": [
      "[[2.58]\n",
      " [2.83]\n",
      " [2.16]\n",
      " ...\n",
      " [1.21]\n",
      " [1.19]\n",
      " [1.21]]\n",
      "[[9.1866386e-04]\n",
      " [1.0748992e-03]\n",
      " [6.5618852e-04]\n",
      " ...\n",
      " [6.2494189e-05]\n",
      " [4.9995375e-05]\n",
      " [6.2494189e-05]]\n"
     ]
    }
   ],
   "source": [
    "\n",
    "\n",
    "np.random.seed(7)\n",
    "\n",
    "\n",
    "dataset=dataset.astype('float32')\n",
    "\n",
    "scalar1=MinMaxScaler(feature_range=(0,1))\n",
    "scalar2=MinMaxScaler(feature_range=(0,1))\n",
    "scalar_dim=dataset[:,1]\n",
    "dataset=scalar1.fit_transform(dataset)\n",
    "\n",
    "scalar_dim=scalar_dim.reshape(len(dataset),1)\n",
    "print(scalar_dim)\n",
    "scalar_dim=scalar2.fit_transform(scalar_dim)\n",
    "print(scalar_dim)\n"
   ]
  },
  {
   "cell_type": "code",
   "execution_count": 4,
   "metadata": {},
   "outputs": [
    {
     "name": "stdout",
     "output_type": "stream",
     "text": [
      "(21899, 9)\n",
      "[[8.12215731e-05 9.18663864e-04 4.59459424e-01 ... 2.77777791e-01\n",
      "  0.00000000e+00 1.00000000e+00]\n",
      " [3.58535210e-03 1.07489922e-03 4.59459424e-01 ... 2.22222224e-01\n",
      "  0.00000000e+00 1.00000000e+00]\n",
      " [1.39817130e-02 6.56188524e-04 4.59459424e-01 ... 1.94320992e-01\n",
      "  0.00000000e+00 1.00000000e+00]\n",
      " ...\n",
      " [6.71818376e-01 6.42064810e-02 4.59459424e-01 ... 2.77777791e-01\n",
      "  5.39999962e-01 0.00000000e+00]\n",
      " [6.75310910e-01 7.20807388e-02 4.59459424e-01 ... 1.94320992e-01\n",
      "  5.39999962e-01 0.00000000e+00]\n",
      " [6.78791821e-01 1.17988944e-01 4.59459424e-01 ... 1.11111112e-01\n",
      "  5.39999962e-01 0.00000000e+00]]\n",
      "(10787, 9)\n"
     ]
    }
   ],
   "source": [
    "train_size=int(len(dataset)*0.67)\n",
    "test_size=len(dataset)- train_size\n",
    "train,test=dataset[0:train_size,:],dataset[train_size:len(dataset),:]\n",
    "\n",
    "print(train.shape)\n",
    "print(train)\n",
    "print(test.shape)\n",
    "#print(test)"
   ]
  },
  {
   "cell_type": "markdown",
   "metadata": {},
   "source": [
    "以下列的函式去執行\n",
    "可以將每一筆資料對應前五個時間點及七筆資料\n",
    "又有幾百筆資料做對應\n",
    "故會有三為資料\n",
    "注 在這邊分成target及分析內容"
   ]
  },
  {
   "cell_type": "code",
   "execution_count": 5,
   "metadata": {},
   "outputs": [],
   "source": [
    "def create_dataset(dataset,look_back):\n",
    "    dataX,dataY=[],[]\n",
    "    for i in range(len(dataset)-look_back-1):\n",
    "        #a=dataset第0行i~i+look_back個\n",
    "        a=dataset[i:(i+look_back),0:9]\n",
    "        dataX.append(a)\n",
    "        dataY.append(dataset[i+look_back,1])\n",
    "    return np.array(dataX),np.array(dataY)\n",
    "\n",
    "    "
   ]
  },
  {
   "cell_type": "code",
   "execution_count": 6,
   "metadata": {},
   "outputs": [
    {
     "name": "stdout",
     "output_type": "stream",
     "text": [
      "(10781, 5, 9)\n",
      "(10781,)\n",
      "(21893, 5, 9)\n",
      "(21893,)\n"
     ]
    }
   ],
   "source": [
    "#根據前面幾個資料來看下一步 彙整成look_back行的資料\n",
    "#X用以輸入 Y用用以predict\n",
    "look_back=5\n",
    "trainX,trainY=create_dataset(train,look_back)\n",
    "testX,testY=create_dataset(test,look_back)\n",
    "print(testX.shape)\n",
    "#print(testX)\n",
    "print(testY.shape)\n",
    "print(trainX.shape)\n",
    "print(trainY.shape)\n"
   ]
  },
  {
   "cell_type": "code",
   "execution_count": 30,
   "metadata": {},
   "outputs": [],
   "source": [
    "#轉為三維 再不是三圍的情況下\n",
    "# trainX=np.reshape(trainX,(trainX.shape[0],trainX.shape[1],1))\n",
    "# testX=np.reshape(testX,(testX.shape[0],testX.shape[1],1))"
   ]
  },
  {
   "cell_type": "code",
   "execution_count": 7,
   "metadata": {},
   "outputs": [
    {
     "name": "stdout",
     "output_type": "stream",
     "text": [
      "Model: \"sequential\"\n",
      "_________________________________________________________________\n",
      " Layer (type)                Output Shape              Param #   \n",
      "=================================================================\n",
      " lstm (LSTM)                 (None, 4)                 224       \n",
      "                                                                 \n",
      " dense (Dense)               (None, 1)                 5         \n",
      "                                                                 \n",
      "=================================================================\n",
      "Total params: 229 (916.00 Byte)\n",
      "Trainable params: 229 (916.00 Byte)\n",
      "Non-trainable params: 0 (0.00 Byte)\n",
      "_________________________________________________________________\n",
      "Epoch 1/5\n",
      "21893/21893 - 50s - loss: 0.0053 - 50s/epoch - 2ms/step\n",
      "Epoch 2/5\n",
      "21893/21893 - 49s - loss: 0.0031 - 49s/epoch - 2ms/step\n",
      "Epoch 3/5\n",
      "21893/21893 - 50s - loss: 0.0030 - 50s/epoch - 2ms/step\n",
      "Epoch 4/5\n",
      "21893/21893 - 49s - loss: 0.0030 - 49s/epoch - 2ms/step\n",
      "Epoch 5/5\n",
      "21893/21893 - 49s - loss: 0.0029 - 49s/epoch - 2ms/step\n"
     ]
    },
    {
     "data": {
      "text/plain": [
       "<keras.src.callbacks.History at 0x1b47fadeec0>"
      ]
     },
     "execution_count": 7,
     "metadata": {},
     "output_type": "execute_result"
    }
   ],
   "source": [
    "model=Sequential()\n",
    "#添加的一個 LSTM 層。\n",
    "#這個層有一個名為 4 的參數，這表示該 LSTM 層有 4 個隱藏單元（hidden units）。\n",
    "# input_shape=(look_back, 1) 則指定了輸入數據的形狀，\n",
    "# 其中 look_back 是時間窗口的大小，1 表示每個時間步的特徵數。\n",
    "model.add(LSTM(4,input_shape=(look_back,9)))\n",
    "#Dense全連接後輸出一層\n",
    "model.add(Dense(1))\n",
    "model.compile(loss='mean_squared_error',optimizer='adam')\n",
    "model.summary()\n",
    "\n",
    "model.fit(trainX,trainY,epochs=5,batch_size=1,verbose=2)\n"
   ]
  },
  {
   "cell_type": "code",
   "execution_count": 8,
   "metadata": {},
   "outputs": [
    {
     "name": "stdout",
     "output_type": "stream",
     "text": [
      "685/685 [==============================] - 2s 2ms/step\n",
      "337/337 [==============================] - 1s 2ms/step\n"
     ]
    },
    {
     "data": {
      "text/plain": [
       "(10781, 1)"
      ]
     },
     "execution_count": 8,
     "metadata": {},
     "output_type": "execute_result"
    }
   ],
   "source": [
    "trainPre=model.predict(trainX)\n",
    "testPre=model.predict(testX)\n",
    "trainPre.shape\n",
    "testPre.shape"
   ]
  },
  {
   "cell_type": "code",
   "execution_count": 9,
   "metadata": {},
   "outputs": [
    {
     "name": "stdout",
     "output_type": "stream",
     "text": [
      "(21893, 1)\n",
      "(1, 21893)\n",
      "(10781, 1)\n",
      "(1, 10781)\n"
     ]
    }
   ],
   "source": [
    "trainPre=scalar2.inverse_transform(trainPre)\n",
    "trainY=scalar2.inverse_transform([trainY])\n",
    "testPre=scalar2.inverse_transform(testPre)\n",
    "testY=scalar2.inverse_transform([testY])\n",
    "print(trainPre.shape)\n",
    "print(trainY.shape)\n",
    "print(testPre.shape)\n",
    "print(testY.shape)"
   ]
  },
  {
   "cell_type": "code",
   "execution_count": 10,
   "metadata": {},
   "outputs": [
    {
     "name": "stdout",
     "output_type": "stream",
     "text": [
      "(1, 21893)\n",
      "(21893, 1)\n",
      "2.0699999217615717\n",
      "55.96956\n"
     ]
    }
   ],
   "source": [
    "print(trainY.shape)\n",
    "print(trainPre.shape)\n",
    "print(trainY[0,1])\n",
    "print(trainPre[1,0])\n"
   ]
  },
  {
   "cell_type": "code",
   "execution_count": 11,
   "metadata": {},
   "outputs": [
    {
     "name": "stdout",
     "output_type": "stream",
     "text": [
      "Train Score:97.81 RMSE\n",
      "Test Score:86.97 RMSE\n"
     ]
    }
   ],
   "source": [
    "#MSE是均方根誤差 即平均誤差 會被平均除下去 所以數據多不代表誤差會增加\n",
    "trainScore=math.sqrt(mean_squared_error(trainY[0,:],trainPre[:,0]))\n",
    "print('Train Score:%.2f RMSE'%(trainScore))\n",
    "testScore=math.sqrt(mean_squared_error(testY[0,:],testPre[:,0]))\n",
    "print('Test Score:%.2f RMSE'%(testScore))"
   ]
  },
  {
   "cell_type": "code",
   "execution_count": 12,
   "metadata": {},
   "outputs": [
    {
     "name": "stdout",
     "output_type": "stream",
     "text": [
      "[  2.15000002   2.06999992   2.05999993 ... 106.04999668 103.84999765\n",
      " 116.44999102]\n",
      "(21893,)\n"
     ]
    }
   ],
   "source": [
    "print(trainY[0,:])\n",
    "print(trainPre[:,0].shape)"
   ]
  },
  {
   "cell_type": "code",
   "execution_count": 13,
   "metadata": {},
   "outputs": [
    {
     "name": "stdout",
     "output_type": "stream",
     "text": [
      "[[nan]\n",
      " [nan]\n",
      " [nan]\n",
      " ...\n",
      " [nan]\n",
      " [nan]\n",
      " [nan]]\n",
      "(32686, 1)\n"
     ]
    }
   ],
   "source": [
    "trainPredictplot=np.empty_like(scalar_dim)\n",
    "#print(trainPredictplot)\n",
    "trainPredictplot[:,:]=np.nan\n",
    "#print(trainPredictplot)\n",
    "trainPredictplot[look_back:len(trainPre)+look_back,:]=trainPre\n",
    "print(trainPredictplot)\n",
    "print(trainPredictplot.shape)"
   ]
  },
  {
   "cell_type": "code",
   "execution_count": 14,
   "metadata": {},
   "outputs": [
    {
     "name": "stdout",
     "output_type": "stream",
     "text": [
      "[[      nan]\n",
      " [      nan]\n",
      " [      nan]\n",
      " ...\n",
      " [53.69717 ]\n",
      " [56.452663]\n",
      " [      nan]]\n"
     ]
    }
   ],
   "source": [
    "testPredictPlot=np.empty_like(scalar_dim)\n",
    "testPredictPlot[:,:]=np.NaN\n",
    "testPredictPlot[len(trainPre)+(look_back*2)+1:len(dataset)-1,:]=testPre\n",
    "print(testPredictPlot)"
   ]
  },
  {
   "cell_type": "code",
   "execution_count": 15,
   "metadata": {},
   "outputs": [
    {
     "data": {
      "image/png": "[encoded data removed]",
      "text/plain": [
       "<Figure size 640x480 with 1 Axes>"
      ]
     },
     "metadata": {},
     "output_type": "display_data"
    }
   ],
   "source": [
    "ground_truth=scalar2.inverse_transform(scalar_dim)\n",
    "plt.plot(ground_truth,label='Ground Truth')\n",
    "plt.legend()\n",
    "plt.show()"
   ]
  },
  {
   "cell_type": "code",
   "execution_count": 39,
   "metadata": {},
   "outputs": [
    {
     "data": {
      "image/png": "[encoded data removed]",
      "text/plain": [
       "<Figure size 640x480 with 1 Axes>"
      ]
     },
     "metadata": {},
     "output_type": "display_data"
    }
   ],
   "source": [
    "ground_truth=scalar2.inverse_transform(scalar_dim)\n",
    "plt.plot(ground_truth[0:200],label='Ground Truth')\n",
    "plt.plot(trainPredictplot[0:200],label='Prediction(training)')\n",
    "plt.plot(testPredictPlot[0:200],label='Prediction(testing)')\n",
    "plt.legend()\n",
    "plt.show()"
   ]
  },
  {
   "cell_type": "code",
   "execution_count": 40,
   "metadata": {},
   "outputs": [],
   "source": [
    "# import sys\n",
    "# numpy.set_printoptions(threshold=sys.maxsize)\n",
    "# detect=scalar.inverse_transform(dataset)\n",
    "# print(detect[400:500,:])"
   ]
  }
 ],
 "metadata": {
  "kernelspec": {
   "display_name": "base",
   "language": "python",
   "name": "python3"
  },
  "language_info": {
   "codemirror_mode": {
    "name": "ipython",
    "version": 3
   },
   "file_extension": ".py",
   "mimetype": "text/x-python",
   "name": "python",
   "nbconvert_exporter": "python",
   "pygments_lexer": "ipython3",
   "version": "3.10.9"
  }
 },
 "nbformat": 4,
 "nbformat_minor": 2
}
