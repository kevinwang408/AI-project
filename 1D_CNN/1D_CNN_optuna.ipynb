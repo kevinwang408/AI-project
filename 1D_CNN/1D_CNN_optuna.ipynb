{
 "cells": [
  {
   "cell_type": "code",
   "execution_count": 89,
   "metadata": {},
   "outputs": [],
   "source": [
    "import pandas as pd\n",
    "import matplotlib.pyplot as plt\n",
    "import numpy as np\n",
    "from pandas import read_csv\n",
    "import math\n",
    "from sklearn.model_selection import train_test_split\n",
    "from sklearn.preprocessing import StandardScaler\n",
    "from sklearn.preprocessing import MinMaxScaler\n",
    "from tensorflow.keras.models import Sequential\n",
    "from tensorflow.keras.layers import Conv1D, Dense, Flatten ,MaxPooling1D\n",
    "from sklearn.metrics import mean_squared_error\n",
    "from sklearn.metrics import mean_absolute_error\n",
    "import matplotlib.pyplot as plt\n",
    "import predict\n",
    "import optuna"
   ]
  },
  {
   "cell_type": "code",
   "execution_count": 90,
   "metadata": {},
   "outputs": [
    {
     "data": {
      "text/html": [
       "<div>\n",
       "<style scoped>\n",
       "    .dataframe tbody tr th:only-of-type {\n",
       "        vertical-align: middle;\n",
       "    }\n",
       "\n",
       "    .dataframe tbody tr th {\n",
       "        vertical-align: top;\n",
       "    }\n",
       "\n",
       "    .dataframe thead th {\n",
       "        text-align: right;\n",
       "    }\n",
       "</style>\n",
       "<table border=\"1\" class=\"dataframe\">\n",
       "  <thead>\n",
       "    <tr style=\"text-align: right;\">\n",
       "      <th></th>\n",
       "      <th>UNIXTime</th>\n",
       "      <th>Radiation</th>\n",
       "      <th>Temperature</th>\n",
       "      <th>Pressure</th>\n",
       "      <th>Humidity</th>\n",
       "      <th>WindDirection(Degrees)</th>\n",
       "      <th>Speed</th>\n",
       "      <th>TimeSunRise</th>\n",
       "      <th>TimeSunSet</th>\n",
       "    </tr>\n",
       "  </thead>\n",
       "  <tbody>\n",
       "    <tr>\n",
       "      <th>0</th>\n",
       "      <td>8</td>\n",
       "      <td>2.58</td>\n",
       "      <td>51</td>\n",
       "      <td>30.43</td>\n",
       "      <td>103</td>\n",
       "      <td>77.27</td>\n",
       "      <td>11.25</td>\n",
       "      <td>22020</td>\n",
       "      <td>67080</td>\n",
       "    </tr>\n",
       "    <tr>\n",
       "      <th>1</th>\n",
       "      <td>310</td>\n",
       "      <td>2.83</td>\n",
       "      <td>51</td>\n",
       "      <td>30.43</td>\n",
       "      <td>103</td>\n",
       "      <td>153.44</td>\n",
       "      <td>9.00</td>\n",
       "      <td>22020</td>\n",
       "      <td>67080</td>\n",
       "    </tr>\n",
       "    <tr>\n",
       "      <th>2</th>\n",
       "      <td>1206</td>\n",
       "      <td>2.16</td>\n",
       "      <td>51</td>\n",
       "      <td>30.43</td>\n",
       "      <td>103</td>\n",
       "      <td>142.04</td>\n",
       "      <td>7.87</td>\n",
       "      <td>22020</td>\n",
       "      <td>67080</td>\n",
       "    </tr>\n",
       "    <tr>\n",
       "      <th>3</th>\n",
       "      <td>1505</td>\n",
       "      <td>2.21</td>\n",
       "      <td>51</td>\n",
       "      <td>30.43</td>\n",
       "      <td>103</td>\n",
       "      <td>144.12</td>\n",
       "      <td>18.00</td>\n",
       "      <td>22020</td>\n",
       "      <td>67080</td>\n",
       "    </tr>\n",
       "    <tr>\n",
       "      <th>4</th>\n",
       "      <td>1809</td>\n",
       "      <td>2.25</td>\n",
       "      <td>51</td>\n",
       "      <td>30.43</td>\n",
       "      <td>103</td>\n",
       "      <td>67.42</td>\n",
       "      <td>11.25</td>\n",
       "      <td>22020</td>\n",
       "      <td>67080</td>\n",
       "    </tr>\n",
       "  </tbody>\n",
       "</table>\n",
       "</div>"
      ],
      "text/plain": [
       "   UNIXTime  Radiation  Temperature  Pressure  Humidity  \\\n",
       "0         8       2.58           51     30.43       103   \n",
       "1       310       2.83           51     30.43       103   \n",
       "2      1206       2.16           51     30.43       103   \n",
       "3      1505       2.21           51     30.43       103   \n",
       "4      1809       2.25           51     30.43       103   \n",
       "\n",
       "   WindDirection(Degrees)  Speed  TimeSunRise  TimeSunSet  \n",
       "0                   77.27  11.25        22020       67080  \n",
       "1                  153.44   9.00        22020       67080  \n",
       "2                  142.04   7.87        22020       67080  \n",
       "3                  144.12  18.00        22020       67080  \n",
       "4                   67.42  11.25        22020       67080  "
      ]
     },
     "execution_count": 90,
     "metadata": {},
     "output_type": "execute_result"
    }
   ],
   "source": [
    "dataset=pd.read_csv('SolarPrediction_aligned_Sun.csv',engine='python',nrows=576*15)\n",
    "dataset=dataset.drop(\"Data\",axis=1)\n",
    "dataset=dataset.drop(\"Time\",axis=1)\n",
    "# dataset=dataset.drop(\"TimeSunRise\",axis=1)\n",
    "# dataset=dataset.drop(\"TimeSunSet\",axis=1)\n",
    "target=dataset[\"Radiation\"]\n",
    "dataset.head(5)\n"
   ]
  },
  {
   "cell_type": "code",
   "execution_count": 91,
   "metadata": {},
   "outputs": [
    {
     "name": "stdout",
     "output_type": "stream",
     "text": [
      "[[  2.58]\n",
      " [  2.83]\n",
      " [  2.16]\n",
      " ...\n",
      " [344.9 ]\n",
      " [365.66]\n",
      " [355.57]]\n",
      "[[0.00089369]\n",
      " [0.00104993]\n",
      " [0.00063121]\n",
      " ...\n",
      " [0.21482898]\n",
      " [0.2278031 ]\n",
      " [0.22149728]]\n"
     ]
    }
   ],
   "source": [
    "dataset=dataset.values\n",
    "\n",
    "dataset=dataset.astype('float32')\n",
    "\n",
    "scalar1=MinMaxScaler(feature_range=(0,1))\n",
    "scalar2=MinMaxScaler(feature_range=(0,1))\n",
    "scalar_dim=dataset[:,1]\n",
    "dataset=scalar1.fit_transform(dataset)\n",
    "\n",
    "scalar_dim=scalar_dim.reshape(len(dataset),1)\n",
    "print(scalar_dim)\n",
    "scalar_dim=scalar2.fit_transform(scalar_dim)\n",
    "print(scalar_dim)\n"
   ]
  },
  {
   "cell_type": "code",
   "execution_count": 92,
   "metadata": {},
   "outputs": [
    {
     "name": "stdout",
     "output_type": "stream",
     "text": [
      "(5788, 9)\n",
      "[[5.8056499e-05 8.9368853e-04 3.3333325e-01 ... 5.5555558e-01\n",
      "  0.0000000e+00 1.0000000e+00]\n",
      " [3.5646691e-03 1.0499278e-03 3.3333325e-01 ... 4.4444445e-01\n",
      "  0.0000000e+00 1.0000000e+00]\n",
      " [1.3968393e-02 6.3120667e-04 3.3333325e-01 ... 3.8864198e-01\n",
      "  0.0000000e+00 1.0000000e+00]\n",
      " ...\n",
      " [1.7786188e-01 4.3747015e-05 2.6666665e-01 ... 2.2222222e-01\n",
      "  7.1428680e-01 2.9999924e-01]\n",
      " [1.8134527e-01 5.6246121e-05 2.6666665e-01 ... 2.7753085e-01\n",
      "  7.1428680e-01 2.9999924e-01]\n",
      " [1.8480544e-01 6.2495703e-05 2.6666665e-01 ... 2.2222222e-01\n",
      "  7.1428680e-01 2.9999924e-01]]\n",
      "(2852, 9)\n"
     ]
    }
   ],
   "source": [
    "train_size=int(len(dataset)*0.67)\n",
    "test_size=len(dataset)- train_size\n",
    "train,test=dataset[0:train_size,:],dataset[train_size:len(dataset),:]\n",
    "\n",
    "print(train.shape)\n",
    "print(train)\n",
    "print(test.shape)\n",
    "#print(test)"
   ]
  },
  {
   "cell_type": "code",
   "execution_count": 93,
   "metadata": {},
   "outputs": [],
   "source": [
    "def create_dataset(dataset,look_back):\n",
    "    dataX,dataY=[],[]\n",
    "    for i in range(len(dataset)-look_back-1):\n",
    "        #a=dataset第0行i~i+look_back個\n",
    "        a=dataset[i:(i+look_back),0:9]\n",
    "        dataX.append(a)\n",
    "        dataY.append(dataset[i+look_back,1])\n",
    "    return np.array(dataX),np.array(dataY)\n",
    "\n",
    "    "
   ]
  },
  {
   "cell_type": "code",
   "execution_count": 94,
   "metadata": {},
   "outputs": [
    {
     "name": "stdout",
     "output_type": "stream",
     "text": [
      "(2846, 5, 9)\n",
      "(2846,)\n",
      "(5782, 5, 9)\n",
      "(5782,)\n"
     ]
    }
   ],
   "source": [
    "#根據前面幾個資料來看下一步 彙整成look_back行的資料\n",
    "#X用以輸入 Y用用以predict\n",
    "look_back=5\n",
    "trainX,trainY=create_dataset(train,look_back)\n",
    "testX,testY=create_dataset(test,look_back)\n",
    "print(testX.shape)\n",
    "#print(testX)\n",
    "print(testY.shape)\n",
    "print(trainX.shape)\n",
    "print(trainY.shape)\n"
   ]
  },
  {
   "cell_type": "code",
   "execution_count": 95,
   "metadata": {},
   "outputs": [],
   "source": [
    "def objective(trial):\n",
    "    model = Sequential()\n",
    "\n",
    "    # 定義 Conv1D 層數和參數\n",
    "    model.add(Conv1D(\n",
    "        filters=trial.suggest_int(\"filters\", 16, 128),\n",
    "        kernel_size=3,\n",
    "        activation=\"relu\",\n",
    "        input_shape=(look_back, 9)\n",
    "    ))\n",
    "\n",
    "    # 添加 MaxPooling1D 層\n",
    "    model.add(MaxPooling1D(pool_size=2))\n",
    "\n",
    "    # Flatten 層\n",
    "    model.add(Flatten())\n",
    "\n",
    "    # 全連接層\n",
    "    model.add(Dense(\n",
    "        units=trial.suggest_int(\"units\", 32, 256),\n",
    "        activation=\"relu\"\n",
    "    ))\n",
    "\n",
    "    # 輸出層\n",
    "    model.add(Dense(units=1, activation=\"linear\"))\n",
    "\n",
    "    model.compile(optimizer=\"adam\", loss=\"mean_squared_error\")\n",
    "\n",
    "    # 將資料轉換成適合模型的形狀\n",
    "    # X_train_reshaped = X_train.reshape((X_train.shape[0], X_train.shape[1], 1))\n",
    "    # X_test_reshaped = X_test.reshape((X_test.shape[0], X_test.shape[1], 1))\n",
    "\n",
    "    # 訓練模型\n",
    "    model.fit(trainX, trainY, epochs=10, batch_size=trial.suggest_int(\"batch_size\", 8, 32), verbose=2)\n",
    "\n",
    "    # 進行預測\n",
    "    y_pred = model.predict(testX)\n",
    "\n",
    "    # 計算均方誤差\n",
    "    mse = mean_squared_error(testY, y_pred)\n",
    "\n",
    "    return mse"
   ]
  },
  {
   "cell_type": "code",
   "execution_count": 96,
   "metadata": {},
   "outputs": [
    {
     "name": "stderr",
     "output_type": "stream",
     "text": [
      "[I 2024-01-29 19:24:44,957] A new study created in memory with name: no-name-f6cb480d-65ca-4a75-af83-f24d44eaa2a4\n"
     ]
    },
    {
     "name": "stdout",
     "output_type": "stream",
     "text": [
      "Epoch 1/10\n",
      "223/223 - 1s - loss: 0.0067 - 1s/epoch - 5ms/step\n",
      "Epoch 2/10\n",
      "223/223 - 0s - loss: 0.0051 - 399ms/epoch - 2ms/step\n",
      "Epoch 3/10\n",
      "223/223 - 0s - loss: 0.0051 - 417ms/epoch - 2ms/step\n",
      "Epoch 4/10\n",
      "223/223 - 0s - loss: 0.0048 - 410ms/epoch - 2ms/step\n",
      "Epoch 5/10\n",
      "223/223 - 0s - loss: 0.0046 - 393ms/epoch - 2ms/step\n",
      "Epoch 6/10\n",
      "223/223 - 0s - loss: 0.0045 - 404ms/epoch - 2ms/step\n",
      "Epoch 7/10\n",
      "223/223 - 0s - loss: 0.0045 - 371ms/epoch - 2ms/step\n",
      "Epoch 8/10\n",
      "223/223 - 0s - loss: 0.0044 - 362ms/epoch - 2ms/step\n",
      "Epoch 9/10\n",
      "223/223 - 0s - loss: 0.0043 - 368ms/epoch - 2ms/step\n",
      "Epoch 10/10\n",
      "223/223 - 0s - loss: 0.0043 - 360ms/epoch - 2ms/step\n",
      "89/89 [==============================] - 0s 2ms/step\n"
     ]
    },
    {
     "name": "stderr",
     "output_type": "stream",
     "text": [
      "[I 2024-01-29 19:24:49,940] Trial 0 finished with value: 0.004451456945389509 and parameters: {'filters': 83, 'units': 134, 'batch_size': 26}. Best is trial 0 with value: 0.004451456945389509.\n"
     ]
    },
    {
     "name": "stdout",
     "output_type": "stream",
     "text": [
      "Epoch 1/10\n",
      "482/482 - 1s - loss: 0.0090 - 1s/epoch - 3ms/step\n",
      "Epoch 2/10\n",
      "482/482 - 1s - loss: 0.0052 - 770ms/epoch - 2ms/step\n",
      "Epoch 3/10\n",
      "482/482 - 1s - loss: 0.0049 - 742ms/epoch - 2ms/step\n",
      "Epoch 4/10\n",
      "482/482 - 1s - loss: 0.0049 - 806ms/epoch - 2ms/step\n",
      "Epoch 5/10\n",
      "482/482 - 1s - loss: 0.0047 - 821ms/epoch - 2ms/step\n",
      "Epoch 6/10\n",
      "482/482 - 1s - loss: 0.0045 - 792ms/epoch - 2ms/step\n",
      "Epoch 7/10\n",
      "482/482 - 1s - loss: 0.0045 - 818ms/epoch - 2ms/step\n",
      "Epoch 8/10\n",
      "482/482 - 1s - loss: 0.0045 - 789ms/epoch - 2ms/step\n",
      "Epoch 9/10\n",
      "482/482 - 1s - loss: 0.0045 - 802ms/epoch - 2ms/step\n",
      "Epoch 10/10\n",
      "482/482 - 1s - loss: 0.0044 - 731ms/epoch - 2ms/step\n",
      "89/89 [==============================] - 0s 1ms/step\n"
     ]
    },
    {
     "name": "stderr",
     "output_type": "stream",
     "text": [
      "[I 2024-01-29 19:24:58,827] Trial 1 finished with value: 0.004767263773828745 and parameters: {'filters': 23, 'units': 56, 'batch_size': 12}. Best is trial 0 with value: 0.004451456945389509.\n"
     ]
    },
    {
     "name": "stdout",
     "output_type": "stream",
     "text": [
      "Epoch 1/10\n",
      "579/579 - 1s - loss: 0.0067 - 1s/epoch - 3ms/step\n",
      "Epoch 2/10\n",
      "579/579 - 1s - loss: 0.0052 - 921ms/epoch - 2ms/step\n",
      "Epoch 3/10\n",
      "579/579 - 1s - loss: 0.0050 - 895ms/epoch - 2ms/step\n",
      "Epoch 4/10\n",
      "579/579 - 1s - loss: 0.0048 - 903ms/epoch - 2ms/step\n",
      "Epoch 5/10\n",
      "579/579 - 1s - loss: 0.0046 - 922ms/epoch - 2ms/step\n",
      "Epoch 6/10\n",
      "579/579 - 1s - loss: 0.0046 - 916ms/epoch - 2ms/step\n",
      "Epoch 7/10\n",
      "579/579 - 1s - loss: 0.0046 - 927ms/epoch - 2ms/step\n",
      "Epoch 8/10\n",
      "579/579 - 1s - loss: 0.0045 - 905ms/epoch - 2ms/step\n",
      "Epoch 9/10\n",
      "579/579 - 1s - loss: 0.0044 - 900ms/epoch - 2ms/step\n",
      "Epoch 10/10\n",
      "579/579 - 1s - loss: 0.0044 - 905ms/epoch - 2ms/step\n",
      "89/89 [==============================] - 0s 2ms/step\n"
     ]
    },
    {
     "name": "stderr",
     "output_type": "stream",
     "text": [
      "[I 2024-01-29 19:25:08,912] Trial 2 finished with value: 0.004233130253851414 and parameters: {'filters': 91, 'units': 98, 'batch_size': 10}. Best is trial 2 with value: 0.004233130253851414.\n"
     ]
    },
    {
     "name": "stdout",
     "output_type": "stream",
     "text": [
      "Epoch 1/10\n",
      "482/482 - 1s - loss: 0.0076 - 1s/epoch - 3ms/step\n",
      "Epoch 2/10\n",
      "482/482 - 1s - loss: 0.0052 - 786ms/epoch - 2ms/step\n",
      "Epoch 3/10\n",
      "482/482 - 1s - loss: 0.0050 - 783ms/epoch - 2ms/step\n",
      "Epoch 4/10\n",
      "482/482 - 1s - loss: 0.0049 - 798ms/epoch - 2ms/step\n",
      "Epoch 5/10\n",
      "482/482 - 1s - loss: 0.0048 - 804ms/epoch - 2ms/step\n",
      "Epoch 6/10\n",
      "482/482 - 1s - loss: 0.0047 - 755ms/epoch - 2ms/step\n",
      "Epoch 7/10\n",
      "482/482 - 1s - loss: 0.0046 - 749ms/epoch - 2ms/step\n",
      "Epoch 8/10\n",
      "482/482 - 1s - loss: 0.0046 - 778ms/epoch - 2ms/step\n",
      "Epoch 9/10\n",
      "482/482 - 1s - loss: 0.0045 - 763ms/epoch - 2ms/step\n",
      "Epoch 10/10\n",
      "482/482 - 1s - loss: 0.0045 - 761ms/epoch - 2ms/step\n",
      "89/89 [==============================] - 0s 2ms/step\n"
     ]
    },
    {
     "name": "stderr",
     "output_type": "stream",
     "text": [
      "[I 2024-01-29 19:25:17,695] Trial 3 finished with value: 0.004218395799398422 and parameters: {'filters': 27, 'units': 72, 'batch_size': 12}. Best is trial 3 with value: 0.004218395799398422.\n"
     ]
    },
    {
     "name": "stdout",
     "output_type": "stream",
     "text": [
      "Epoch 1/10\n",
      "723/723 - 2s - loss: 0.0066 - 2s/epoch - 2ms/step\n",
      "Epoch 2/10\n",
      "723/723 - 1s - loss: 0.0054 - 1s/epoch - 2ms/step\n",
      "Epoch 3/10\n",
      "723/723 - 1s - loss: 0.0050 - 1s/epoch - 2ms/step\n",
      "Epoch 4/10\n",
      "723/723 - 1s - loss: 0.0048 - 1s/epoch - 2ms/step\n",
      "Epoch 5/10\n",
      "723/723 - 1s - loss: 0.0046 - 1s/epoch - 2ms/step\n",
      "Epoch 6/10\n",
      "723/723 - 1s - loss: 0.0047 - 1s/epoch - 2ms/step\n",
      "Epoch 7/10\n",
      "723/723 - 1s - loss: 0.0046 - 1s/epoch - 2ms/step\n",
      "Epoch 8/10\n",
      "723/723 - 1s - loss: 0.0045 - 1s/epoch - 2ms/step\n",
      "Epoch 9/10\n",
      "723/723 - 1s - loss: 0.0044 - 1s/epoch - 2ms/step\n",
      "Epoch 10/10\n",
      "723/723 - 1s - loss: 0.0044 - 1s/epoch - 2ms/step\n",
      "89/89 [==============================] - 0s 2ms/step\n"
     ]
    },
    {
     "name": "stderr",
     "output_type": "stream",
     "text": [
      "[I 2024-01-29 19:25:31,542] Trial 4 finished with value: 0.004694952163845301 and parameters: {'filters': 113, 'units': 242, 'batch_size': 8}. Best is trial 3 with value: 0.004218395799398422.\n"
     ]
    },
    {
     "name": "stdout",
     "output_type": "stream",
     "text": [
      "Epoch 1/10\n",
      "413/413 - 1s - loss: 0.0075 - 1s/epoch - 3ms/step\n",
      "Epoch 2/10\n",
      "413/413 - 1s - loss: 0.0051 - 621ms/epoch - 2ms/step\n",
      "Epoch 3/10\n",
      "413/413 - 1s - loss: 0.0050 - 637ms/epoch - 2ms/step\n",
      "Epoch 4/10\n",
      "413/413 - 1s - loss: 0.0048 - 630ms/epoch - 2ms/step\n",
      "Epoch 5/10\n",
      "413/413 - 1s - loss: 0.0047 - 627ms/epoch - 2ms/step\n",
      "Epoch 6/10\n",
      "413/413 - 1s - loss: 0.0046 - 669ms/epoch - 2ms/step\n",
      "Epoch 7/10\n",
      "413/413 - 1s - loss: 0.0046 - 636ms/epoch - 2ms/step\n",
      "Epoch 8/10\n",
      "413/413 - 1s - loss: 0.0045 - 636ms/epoch - 2ms/step\n",
      "Epoch 9/10\n",
      "413/413 - 1s - loss: 0.0044 - 637ms/epoch - 2ms/step\n",
      "Epoch 10/10\n",
      "413/413 - 1s - loss: 0.0044 - 641ms/epoch - 2ms/step\n",
      "89/89 [==============================] - 0s 1ms/step\n"
     ]
    },
    {
     "name": "stderr",
     "output_type": "stream",
     "text": [
      "[I 2024-01-29 19:25:38,933] Trial 5 finished with value: 0.004135522060096264 and parameters: {'filters': 40, 'units': 103, 'batch_size': 14}. Best is trial 5 with value: 0.004135522060096264.\n"
     ]
    },
    {
     "name": "stdout",
     "output_type": "stream",
     "text": [
      "Epoch 1/10\n",
      "362/362 - 1s - loss: 0.0066 - 1s/epoch - 3ms/step\n",
      "Epoch 2/10\n",
      "362/362 - 1s - loss: 0.0051 - 582ms/epoch - 2ms/step\n",
      "Epoch 3/10\n",
      "362/362 - 1s - loss: 0.0048 - 598ms/epoch - 2ms/step\n",
      "Epoch 4/10\n",
      "362/362 - 1s - loss: 0.0046 - 612ms/epoch - 2ms/step\n",
      "Epoch 5/10\n",
      "362/362 - 1s - loss: 0.0046 - 622ms/epoch - 2ms/step\n",
      "Epoch 6/10\n",
      "362/362 - 1s - loss: 0.0044 - 626ms/epoch - 2ms/step\n",
      "Epoch 7/10\n",
      "362/362 - 1s - loss: 0.0046 - 649ms/epoch - 2ms/step\n",
      "Epoch 8/10\n",
      "362/362 - 1s - loss: 0.0044 - 618ms/epoch - 2ms/step\n",
      "Epoch 9/10\n",
      "362/362 - 1s - loss: 0.0043 - 625ms/epoch - 2ms/step\n",
      "Epoch 10/10\n",
      "362/362 - 1s - loss: 0.0044 - 634ms/epoch - 2ms/step\n",
      "89/89 [==============================] - 0s 2ms/step\n"
     ]
    },
    {
     "name": "stderr",
     "output_type": "stream",
     "text": [
      "[I 2024-01-29 19:25:46,099] Trial 6 finished with value: 0.004223373718559742 and parameters: {'filters': 68, 'units': 93, 'batch_size': 16}. Best is trial 5 with value: 0.004135522060096264.\n"
     ]
    },
    {
     "name": "stdout",
     "output_type": "stream",
     "text": [
      "Epoch 1/10\n",
      "305/305 - 1s - loss: 0.0065 - 1s/epoch - 3ms/step\n",
      "Epoch 2/10\n",
      "305/305 - 1s - loss: 0.0051 - 505ms/epoch - 2ms/step\n",
      "Epoch 3/10\n",
      "305/305 - 1s - loss: 0.0047 - 501ms/epoch - 2ms/step\n",
      "Epoch 4/10\n",
      "305/305 - 1s - loss: 0.0047 - 505ms/epoch - 2ms/step\n",
      "Epoch 5/10\n",
      "305/305 - 1s - loss: 0.0045 - 513ms/epoch - 2ms/step\n",
      "Epoch 6/10\n",
      "305/305 - 0s - loss: 0.0045 - 497ms/epoch - 2ms/step\n",
      "Epoch 7/10\n",
      "305/305 - 1s - loss: 0.0043 - 510ms/epoch - 2ms/step\n",
      "Epoch 8/10\n",
      "305/305 - 1s - loss: 0.0043 - 505ms/epoch - 2ms/step\n",
      "Epoch 9/10\n",
      "305/305 - 1s - loss: 0.0045 - 510ms/epoch - 2ms/step\n",
      "Epoch 10/10\n",
      "305/305 - 1s - loss: 0.0043 - 518ms/epoch - 2ms/step\n",
      "89/89 [==============================] - 0s 2ms/step\n"
     ]
    },
    {
     "name": "stderr",
     "output_type": "stream",
     "text": [
      "[I 2024-01-29 19:25:52,129] Trial 7 finished with value: 0.00418040482327342 and parameters: {'filters': 70, 'units': 115, 'batch_size': 19}. Best is trial 5 with value: 0.004135522060096264.\n"
     ]
    },
    {
     "name": "stdout",
     "output_type": "stream",
     "text": [
      "Epoch 1/10\n",
      "386/386 - 1s - loss: 0.0071 - 1s/epoch - 3ms/step\n",
      "Epoch 2/10\n",
      "386/386 - 1s - loss: 0.0050 - 613ms/epoch - 2ms/step\n",
      "Epoch 3/10\n",
      "386/386 - 1s - loss: 0.0048 - 619ms/epoch - 2ms/step\n",
      "Epoch 4/10\n",
      "386/386 - 1s - loss: 0.0048 - 617ms/epoch - 2ms/step\n",
      "Epoch 5/10\n",
      "386/386 - 1s - loss: 0.0047 - 614ms/epoch - 2ms/step\n",
      "Epoch 6/10\n",
      "386/386 - 1s - loss: 0.0046 - 656ms/epoch - 2ms/step\n",
      "Epoch 7/10\n",
      "386/386 - 1s - loss: 0.0044 - 648ms/epoch - 2ms/step\n",
      "Epoch 8/10\n",
      "386/386 - 1s - loss: 0.0045 - 686ms/epoch - 2ms/step\n",
      "Epoch 9/10\n",
      "386/386 - 1s - loss: 0.0044 - 675ms/epoch - 2ms/step\n",
      "Epoch 10/10\n",
      "386/386 - 1s - loss: 0.0044 - 693ms/epoch - 2ms/step\n",
      "89/89 [==============================] - 0s 2ms/step\n"
     ]
    },
    {
     "name": "stderr",
     "output_type": "stream",
     "text": [
      "[I 2024-01-29 19:25:59,560] Trial 8 finished with value: 0.00659228814765811 and parameters: {'filters': 102, 'units': 44, 'batch_size': 15}. Best is trial 5 with value: 0.004135522060096264.\n"
     ]
    },
    {
     "name": "stdout",
     "output_type": "stream",
     "text": [
      "Epoch 1/10\n",
      "276/276 - 1s - loss: 0.0067 - 1s/epoch - 4ms/step\n",
      "Epoch 2/10\n",
      "276/276 - 0s - loss: 0.0052 - 494ms/epoch - 2ms/step\n",
      "Epoch 3/10\n",
      "276/276 - 0s - loss: 0.0046 - 493ms/epoch - 2ms/step\n",
      "Epoch 4/10\n",
      "276/276 - 0s - loss: 0.0048 - 463ms/epoch - 2ms/step\n",
      "Epoch 5/10\n",
      "276/276 - 0s - loss: 0.0046 - 461ms/epoch - 2ms/step\n",
      "Epoch 6/10\n",
      "276/276 - 0s - loss: 0.0046 - 467ms/epoch - 2ms/step\n",
      "Epoch 7/10\n",
      "276/276 - 0s - loss: 0.0046 - 459ms/epoch - 2ms/step\n",
      "Epoch 8/10\n",
      "276/276 - 0s - loss: 0.0043 - 462ms/epoch - 2ms/step\n",
      "Epoch 9/10\n",
      "276/276 - 0s - loss: 0.0043 - 459ms/epoch - 2ms/step\n",
      "Epoch 10/10\n",
      "276/276 - 0s - loss: 0.0042 - 463ms/epoch - 2ms/step\n",
      "89/89 [==============================] - 0s 2ms/step\n"
     ]
    },
    {
     "name": "stderr",
     "output_type": "stream",
     "text": [
      "[I 2024-01-29 19:26:05,397] Trial 9 finished with value: 0.003980303183197975 and parameters: {'filters': 111, 'units': 148, 'batch_size': 21}. Best is trial 9 with value: 0.003980303183197975.\n"
     ]
    },
    {
     "name": "stdout",
     "output_type": "stream",
     "text": [
      "Best Hyperparameters: {'filters': 111, 'units': 148, 'batch_size': 21}\n"
     ]
    }
   ],
   "source": [
    "study = optuna.create_study(direction=\"minimize\")\n",
    "study.optimize(objective, n_trials=10)\n",
    "\n",
    "# 取得最佳超參數\n",
    "best_params = study.best_params\n",
    "print(\"Best Hyperparameters:\", best_params)"
   ]
  }
 ],
 "metadata": {
  "kernelspec": {
   "display_name": "base",
   "language": "python",
   "name": "python3"
  },
  "language_info": {
   "codemirror_mode": {
    "name": "ipython",
    "version": 3
   },
   "file_extension": ".py",
   "mimetype": "text/x-python",
   "name": "python",
   "nbconvert_exporter": "python",
   "pygments_lexer": "ipython3",
   "version": "3.10.9"
  }
 },
 "nbformat": 4,
 "nbformat_minor": 2
}
